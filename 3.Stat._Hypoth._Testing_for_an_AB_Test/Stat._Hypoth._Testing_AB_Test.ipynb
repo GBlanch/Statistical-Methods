{
 "cells": [
  {
   "cell_type": "markdown",
   "id": "5633bd3f",
   "metadata": {},
   "source": [
    "# Statistical Hypothesis Testing for an A/B Test   "
   ]
  },
  {
   "cell_type": "markdown",
   "id": "13b94283",
   "metadata": {},
   "source": [
    "## Intro\n",
    " \n",
    "\n",
    " In this notebook, I revisited my own solution for the capstone project of the course [**A/B Testing**](https://www.udacity.com/course/ab-testing--ud257) from **School of Data Science** of _Udacity_. I added some brief literature notes on Statistical Inference, as well as plotted a few more graphics to confirm the conclusion of it."
   ]
  },
  {
   "cell_type": "markdown",
   "id": "f9369b74",
   "metadata": {},
   "source": [
    "## Index   \n",
    "- [1. Summary](#1-summary)\n",
    "- [2. Probabilistic approach](#2-probabilistic-approach)\n",
    "- [3. Statistical approach](#3-statistical-approach)\n",
    "- [4. Logistic Regression for confirmation of conclusions](#4-logistic-regression-for-confirmation-of-conclusions)\n",
    "- [5. Confusion matrix and ROC Space](#5-confusion-matrix-and-roc-space)"
   ]
  },
  {
   "cell_type": "markdown",
   "id": "581bffbc",
   "metadata": {},
   "source": [
    "### 1. Summary"
   ]
  },
  {
   "cell_type": "markdown",
   "id": "1951ebdd",
   "metadata": {},
   "source": [
    "After having obtained some synthetic data resulting from an A/B test, we are to determine whether or not a variation on the display of a website can lead to more conversions/registrations.\n",
    "\n",
    "This notebook may be categorized into two different branches: Probability and Statistics. The former one will be rather discussed superficially, whereas the latter one will be more extended.\n",
    "\n",
    "Once we have briefly reviewed the dataset from an probabilistic approach, we will pose the Null Hypothesis $H_0$ and apply some bootstrapping to simulate the increment of p-values from both website versions. As you may guess, we aim to determine whether or not we can fail to reject $H_0$. \n",
    "\n",
    "Later on, we will validate the results obtained by performing some Logistic Regressions, exploring the timestamp register, and executing some model diagnostics by means of confusion matrices and ROC spaces.\n",
    "\n",
    "We will conclude by seeing that more inferences will be needed to decide whether or not the changes performed on the new website may increase user conversions. \n",
    "\n",
    "Please note that subjects such as the desirable duration of the A/B test and/or acceptable threshold of conversion improvement are out of the scope of this notebook.\n"
   ]
  },
  {
   "cell_type": "markdown",
   "id": "95dc2fdf",
   "metadata": {},
   "source": [
    "[Back to Index](#index)"
   ]
  },
  {
   "cell_type": "markdown",
   "id": "e12b49ac",
   "metadata": {},
   "source": [
    "### 2. Probabilistic approach "
   ]
  },
  {
   "cell_type": "markdown",
   "id": "cab2f00d",
   "metadata": {},
   "source": [
    "After importing all of the libraries and dependencies to be utilized, we are to de some real rapid and basic data cleaning and wrangling, if it can even be named as such: "
   ]
  },
  {
   "cell_type": "code",
   "execution_count": 1,
   "id": "b1da7689",
   "metadata": {},
   "outputs": [],
   "source": [
    "import pandas as pd\n",
    "import numpy as np\n",
    "import scipy.stats as stats\n",
    "from scipy.stats import norm\n",
    "import random\n",
    "import seaborn as sns\n",
    "import matplotlib.pyplot as plt\n",
    "%matplotlib inline\n",
    "sns.set_style(\"darkgrid\")\n",
    "import warnings\n",
    "warnings.filterwarnings(\"ignore\")\n",
    "import statsmodels.api as sm\n",
    "from sklearn.linear_model import LogisticRegression\n",
    "from sklearn.metrics import confusion_matrix, precision_score, recall_score, accuracy_score\n",
    "from sklearn.metrics import classification_report\n",
    "from sklearn.model_selection import train_test_split\n",
    "from sklearn.metrics import roc_auc_score\n",
    "from sklearn.metrics import roc_curve\n"
   ]
  },
  {
   "cell_type": "code",
   "execution_count": 2,
   "id": "56a21567",
   "metadata": {},
   "outputs": [
    {
     "data": {
      "text/html": [
       "<div>\n",
       "<style scoped>\n",
       "    .dataframe tbody tr th:only-of-type {\n",
       "        vertical-align: middle;\n",
       "    }\n",
       "\n",
       "    .dataframe tbody tr th {\n",
       "        vertical-align: top;\n",
       "    }\n",
       "\n",
       "    .dataframe thead th {\n",
       "        text-align: right;\n",
       "    }\n",
       "</style>\n",
       "<table border=\"1\" class=\"dataframe\">\n",
       "  <thead>\n",
       "    <tr style=\"text-align: right;\">\n",
       "      <th></th>\n",
       "      <th>user_id</th>\n",
       "      <th>timestamp</th>\n",
       "      <th>group</th>\n",
       "      <th>landing_page</th>\n",
       "      <th>converted</th>\n",
       "    </tr>\n",
       "  </thead>\n",
       "  <tbody>\n",
       "    <tr>\n",
       "      <th>0</th>\n",
       "      <td>851104</td>\n",
       "      <td>2017-01-21 22:11:48.556739</td>\n",
       "      <td>C</td>\n",
       "      <td>Previous</td>\n",
       "      <td>No</td>\n",
       "    </tr>\n",
       "    <tr>\n",
       "      <th>1</th>\n",
       "      <td>804228</td>\n",
       "      <td>2017-01-12 08:01:45.159739</td>\n",
       "      <td>C</td>\n",
       "      <td>Previous</td>\n",
       "      <td>No</td>\n",
       "    </tr>\n",
       "    <tr>\n",
       "      <th>2</th>\n",
       "      <td>661590</td>\n",
       "      <td>2017-01-11 16:55:06.154213</td>\n",
       "      <td>T</td>\n",
       "      <td>New</td>\n",
       "      <td>No</td>\n",
       "    </tr>\n",
       "    <tr>\n",
       "      <th>3</th>\n",
       "      <td>853541</td>\n",
       "      <td>2017-01-08 18:28:03.143765</td>\n",
       "      <td>T</td>\n",
       "      <td>New</td>\n",
       "      <td>No</td>\n",
       "    </tr>\n",
       "    <tr>\n",
       "      <th>4</th>\n",
       "      <td>864975</td>\n",
       "      <td>2017-01-21 01:52:26.210827</td>\n",
       "      <td>C</td>\n",
       "      <td>Previous</td>\n",
       "      <td>Yes</td>\n",
       "    </tr>\n",
       "    <tr>\n",
       "      <th>...</th>\n",
       "      <td>...</td>\n",
       "      <td>...</td>\n",
       "      <td>...</td>\n",
       "      <td>...</td>\n",
       "      <td>...</td>\n",
       "    </tr>\n",
       "    <tr>\n",
       "      <th>294473</th>\n",
       "      <td>751197</td>\n",
       "      <td>2017-01-03 22:28:38.630509</td>\n",
       "      <td>C</td>\n",
       "      <td>Previous</td>\n",
       "      <td>No</td>\n",
       "    </tr>\n",
       "    <tr>\n",
       "      <th>294474</th>\n",
       "      <td>945152</td>\n",
       "      <td>2017-01-12 00:51:57.078372</td>\n",
       "      <td>C</td>\n",
       "      <td>Previous</td>\n",
       "      <td>No</td>\n",
       "    </tr>\n",
       "    <tr>\n",
       "      <th>294475</th>\n",
       "      <td>734608</td>\n",
       "      <td>2017-01-22 11:45:03.439544</td>\n",
       "      <td>C</td>\n",
       "      <td>Previous</td>\n",
       "      <td>No</td>\n",
       "    </tr>\n",
       "    <tr>\n",
       "      <th>294476</th>\n",
       "      <td>697314</td>\n",
       "      <td>2017-01-15 01:20:28.957438</td>\n",
       "      <td>C</td>\n",
       "      <td>Previous</td>\n",
       "      <td>No</td>\n",
       "    </tr>\n",
       "    <tr>\n",
       "      <th>294477</th>\n",
       "      <td>715931</td>\n",
       "      <td>2017-01-16 12:40:24.467417</td>\n",
       "      <td>T</td>\n",
       "      <td>New</td>\n",
       "      <td>No</td>\n",
       "    </tr>\n",
       "  </tbody>\n",
       "</table>\n",
       "<p>294478 rows × 5 columns</p>\n",
       "</div>"
      ],
      "text/plain": [
       "        user_id                   timestamp group landing_page converted\n",
       "0        851104  2017-01-21 22:11:48.556739     C     Previous        No\n",
       "1        804228  2017-01-12 08:01:45.159739     C     Previous        No\n",
       "2        661590  2017-01-11 16:55:06.154213     T          New        No\n",
       "3        853541  2017-01-08 18:28:03.143765     T          New        No\n",
       "4        864975  2017-01-21 01:52:26.210827     C     Previous       Yes\n",
       "...         ...                         ...   ...          ...       ...\n",
       "294473   751197  2017-01-03 22:28:38.630509     C     Previous        No\n",
       "294474   945152  2017-01-12 00:51:57.078372     C     Previous        No\n",
       "294475   734608  2017-01-22 11:45:03.439544     C     Previous        No\n",
       "294476   697314  2017-01-15 01:20:28.957438     C     Previous        No\n",
       "294477   715931  2017-01-16 12:40:24.467417     T          New        No\n",
       "\n",
       "[294478 rows x 5 columns]"
      ]
     },
     "execution_count": 2,
     "metadata": {},
     "output_type": "execute_result"
    }
   ],
   "source": [
    "df = pd.read_csv('datasets/users_grouped.csv')\n",
    "df"
   ]
  },
  {
   "cell_type": "markdown",
   "id": "10ff7265",
   "metadata": {},
   "source": [
    "We note that the 1st dimension of the dataset is the total number of observations a priori, which merely arrives to 300 thousand."
   ]
  },
  {
   "cell_type": "markdown",
   "id": "dfd0522b",
   "metadata": {},
   "source": [
    "We are to de some very basic data cleaning and wrangling, if it can even be named as such: "
   ]
  },
  {
   "cell_type": "markdown",
   "metadata": {},
   "source": [
    "FIrst off, any values to impute?\n"
   ]
  },
  {
   "cell_type": "code",
   "execution_count": 3,
   "id": "528bdeae",
   "metadata": {},
   "outputs": [
    {
     "name": "stdout",
     "output_type": "stream",
     "text": [
      "No values to impute\n"
     ]
    }
   ],
   "source": [
    "if df.isnull().values.any():\n",
    "    print('Yes, value imputation must be done')\n",
    "else:\n",
    "    print('No values to impute')"
   ]
  },
  {
   "cell_type": "markdown",
   "id": "206fd8af",
   "metadata": {},
   "source": [
    "We better cast the values of the column `converted` into a integer, instead of a string.\n"
   ]
  },
  {
   "cell_type": "code",
   "execution_count": 4,
   "id": "215c2768",
   "metadata": {},
   "outputs": [],
   "source": [
    "def converted_to_int(row):\n",
    "    if row['converted'] == 'No':\n",
    "        val = 0\n",
    "    else:\n",
    "        val = 1\n",
    "    return val\n",
    "\n",
    "df['converted_int'] = df.apply(converted_to_int,\n",
    "                               axis = 1)"
   ]
  },
  {
   "cell_type": "markdown",
   "id": "f3b420ef",
   "metadata": {},
   "source": [
    "Or, instead of creating a new column, we could even just rewrite the same column and update accordingly our data catalog:"
   ]
  },
  {
   "cell_type": "code",
   "execution_count": 5,
   "id": "f0d909a0",
   "metadata": {},
   "outputs": [],
   "source": [
    "df = df.drop('converted_int', axis = 1)\n",
    "df['converted'] = df.apply(converted_to_int,\n",
    "                           axis = 1)"
   ]
  },
  {
   "cell_type": "code",
   "execution_count": 6,
   "id": "7cafe823",
   "metadata": {},
   "outputs": [
    {
     "data": {
      "text/html": [
       "<div>\n",
       "<style scoped>\n",
       "    .dataframe tbody tr th:only-of-type {\n",
       "        vertical-align: middle;\n",
       "    }\n",
       "\n",
       "    .dataframe tbody tr th {\n",
       "        vertical-align: top;\n",
       "    }\n",
       "\n",
       "    .dataframe thead th {\n",
       "        text-align: right;\n",
       "    }\n",
       "</style>\n",
       "<table border=\"1\" class=\"dataframe\">\n",
       "  <thead>\n",
       "    <tr style=\"text-align: right;\">\n",
       "      <th></th>\n",
       "      <th>user_id</th>\n",
       "      <th>timestamp</th>\n",
       "      <th>group</th>\n",
       "      <th>landing_page</th>\n",
       "      <th>converted</th>\n",
       "    </tr>\n",
       "  </thead>\n",
       "  <tbody>\n",
       "    <tr>\n",
       "      <th>0</th>\n",
       "      <td>851104</td>\n",
       "      <td>2017-01-21 22:11:48.556739</td>\n",
       "      <td>C</td>\n",
       "      <td>Previous</td>\n",
       "      <td>0</td>\n",
       "    </tr>\n",
       "    <tr>\n",
       "      <th>1</th>\n",
       "      <td>804228</td>\n",
       "      <td>2017-01-12 08:01:45.159739</td>\n",
       "      <td>C</td>\n",
       "      <td>Previous</td>\n",
       "      <td>0</td>\n",
       "    </tr>\n",
       "    <tr>\n",
       "      <th>2</th>\n",
       "      <td>661590</td>\n",
       "      <td>2017-01-11 16:55:06.154213</td>\n",
       "      <td>T</td>\n",
       "      <td>New</td>\n",
       "      <td>0</td>\n",
       "    </tr>\n",
       "    <tr>\n",
       "      <th>3</th>\n",
       "      <td>853541</td>\n",
       "      <td>2017-01-08 18:28:03.143765</td>\n",
       "      <td>T</td>\n",
       "      <td>New</td>\n",
       "      <td>0</td>\n",
       "    </tr>\n",
       "    <tr>\n",
       "      <th>4</th>\n",
       "      <td>864975</td>\n",
       "      <td>2017-01-21 01:52:26.210827</td>\n",
       "      <td>C</td>\n",
       "      <td>Previous</td>\n",
       "      <td>1</td>\n",
       "    </tr>\n",
       "  </tbody>\n",
       "</table>\n",
       "</div>"
      ],
      "text/plain": [
       "   user_id                   timestamp group landing_page  converted\n",
       "0   851104  2017-01-21 22:11:48.556739     C     Previous          0\n",
       "1   804228  2017-01-12 08:01:45.159739     C     Previous          0\n",
       "2   661590  2017-01-11 16:55:06.154213     T          New          0\n",
       "3   853541  2017-01-08 18:28:03.143765     T          New          0\n",
       "4   864975  2017-01-21 01:52:26.210827     C     Previous          1"
      ]
     },
     "execution_count": 6,
     "metadata": {},
     "output_type": "execute_result"
    }
   ],
   "source": [
    "df.head()"
   ]
  },
  {
   "cell_type": "markdown",
   "id": "5ead6e9f",
   "metadata": {},
   "source": [
    "Let us take a look at the number of unique values to see if there are some duplicates"
   ]
  },
  {
   "cell_type": "code",
   "execution_count": 7,
   "id": "a96d2a46",
   "metadata": {},
   "outputs": [
    {
     "data": {
      "text/plain": [
       "user_id         290584\n",
       "timestamp       294478\n",
       "group                2\n",
       "landing_page         2\n",
       "converted            2\n",
       "dtype: int64"
      ]
     },
     "execution_count": 7,
     "metadata": {},
     "output_type": "execute_result"
    }
   ],
   "source": [
    "df.nunique()"
   ]
  },
  {
   "cell_type": "markdown",
   "id": "734d1382",
   "metadata": {},
   "source": [
    "We see that there seems to be some repeated timestamps."
   ]
  },
  {
   "cell_type": "code",
   "execution_count": 8,
   "id": "b734a8d7",
   "metadata": {},
   "outputs": [
    {
     "name": "stdout",
     "output_type": "stream",
     "text": [
      "Repeated timestamps 3894\n"
     ]
    }
   ],
   "source": [
    "print(\n",
    "    f\"{'Repeated timestamps'}{df.nunique()[1] - df.nunique()[0] : > 2}\"\n",
    ")"
   ]
  },
  {
   "cell_type": "markdown",
   "id": "b8d384d0",
   "metadata": {},
   "source": [
    "A way to find these ones, is to select the users that precisely exist:\n",
    "- in the `control` group within the `new` page \n",
    "- in the `treatment` group within the `previous` page \n",
    "\n",
    "And so this is to code:"
   ]
  },
  {
   "cell_type": "code",
   "execution_count": 9,
   "id": "e90c3111",
   "metadata": {},
   "outputs": [
    {
     "data": {
      "text/plain": [
       "3893"
      ]
     },
     "execution_count": 9,
     "metadata": {},
     "output_type": "execute_result"
    }
   ],
   "source": [
    "df_control_new = df.query(\"group == 'C' & landing_page == 'New'\")\n",
    "df_treat_prev = df.query(\"group == 'T' & landing_page == 'Previous'\")\n",
    "not_aligned = len(df_control_new) + len(df_treat_prev)\n",
    "not_aligned"
   ]
  },
  {
   "cell_type": "markdown",
   "id": "2942bea0",
   "metadata": {},
   "source": [
    "Alternatively, we could query this in just one line of code by using the method `groupby`: "
   ]
  },
  {
   "cell_type": "code",
   "execution_count": 10,
   "id": "349f925c",
   "metadata": {},
   "outputs": [
    {
     "data": {
      "text/plain": [
       "group  landing_page\n",
       "C      New               1928\n",
       "       Previous        145274\n",
       "T      New             145311\n",
       "       Previous          1965\n",
       "Name: landing_page, dtype: int64"
      ]
     },
     "execution_count": 10,
     "metadata": {},
     "output_type": "execute_result"
    }
   ],
   "source": [
    "not_aligned_grouped = df.groupby(['group',\n",
    "                                  'landing_page']\n",
    "                                  )\\\n",
    "                                 ['landing_page']\\\n",
    "                                .count()\n",
    "not_aligned_grouped"
   ]
  },
  {
   "cell_type": "code",
   "execution_count": 11,
   "id": "8c79ceec",
   "metadata": {},
   "outputs": [
    {
     "data": {
      "text/plain": [
       "True"
      ]
     },
     "execution_count": 11,
     "metadata": {},
     "output_type": "execute_result"
    }
   ],
   "source": [
    "not_aligned == (not_aligned_grouped[0] + not_aligned_grouped[3])"
   ]
  },
  {
   "cell_type": "markdown",
   "id": "00dcd859",
   "metadata": {},
   "source": [
    "Please notice that there is still one user which doesn't exist within this group set. \n",
    "\n",
    "Let us though first take care of these majority of values found so far. We are to eliminate these misleading observations as per the criteria mentioned when the repeated users were found:"
   ]
  },
  {
   "cell_type": "code",
   "execution_count": 12,
   "id": "e82b6f9f",
   "metadata": {},
   "outputs": [],
   "source": [
    "# drop the observations whose status are mislading: T-group and previous ver. |  C-group and new ver.\n",
    "df2 = df.drop(df.query('(group == \"T\" & landing_page == \"Previous\") | \\\n",
    "                       (group == \"C\" & landing_page == \"New\")'\n",
    "                       ).index\n",
    "            )"
   ]
  },
  {
   "cell_type": "markdown",
   "id": "7407ca08",
   "metadata": {},
   "source": [
    "We confirm that there is nothing remaining in this portion of our dataframe:"
   ]
  },
  {
   "cell_type": "code",
   "execution_count": 13,
   "id": "ae5e3d21",
   "metadata": {},
   "outputs": [
    {
     "data": {
      "text/plain": [
       "0"
      ]
     },
     "execution_count": 13,
     "metadata": {},
     "output_type": "execute_result"
    }
   ],
   "source": [
    "df2[\n",
    "    (\n",
    "        (df2['group'] == 'T') == (df2['landing_page'] == 'New')\n",
    "     ) == False\n",
    "     ].shape[0]"
   ]
  },
  {
   "cell_type": "markdown",
   "id": "860440da",
   "metadata": {},
   "source": [
    "And that of course, these observations no longer exist in our dataframe which is the object of this study:\n"
   ]
  },
  {
   "cell_type": "code",
   "execution_count": 14,
   "id": "cdd942cb",
   "metadata": {},
   "outputs": [
    {
     "data": {
      "text/plain": [
       "user_id         290584\n",
       "timestamp       290585\n",
       "group                2\n",
       "landing_page         2\n",
       "converted            2\n",
       "dtype: int64"
      ]
     },
     "execution_count": 14,
     "metadata": {},
     "output_type": "execute_result"
    }
   ],
   "source": [
    "df2.nunique()"
   ]
  },
  {
   "cell_type": "markdown",
   "metadata": {},
   "source": [
    "We see one timestamp more than unique users. That cannot be concerning any misplacement of control-treatment groups anymore, rather than one duplication of a user_id within the correct grouping, as we suspect:"
   ]
  },
  {
   "cell_type": "code",
   "execution_count": 15,
   "id": "2ee29648",
   "metadata": {},
   "outputs": [
    {
     "data": {
      "text/plain": [
       "1"
      ]
     },
     "execution_count": 15,
     "metadata": {},
     "output_type": "execute_result"
    }
   ],
   "source": [
    "sum(df2.user_id.duplicated())"
   ]
  },
  {
   "cell_type": "markdown",
   "id": "25b249ea",
   "metadata": {},
   "source": [
    "Let us spot the duplicated user:"
   ]
  },
  {
   "cell_type": "code",
   "execution_count": 16,
   "id": "127627e3",
   "metadata": {},
   "outputs": [
    {
     "data": {
      "text/html": [
       "<div>\n",
       "<style scoped>\n",
       "    .dataframe tbody tr th:only-of-type {\n",
       "        vertical-align: middle;\n",
       "    }\n",
       "\n",
       "    .dataframe tbody tr th {\n",
       "        vertical-align: top;\n",
       "    }\n",
       "\n",
       "    .dataframe thead th {\n",
       "        text-align: right;\n",
       "    }\n",
       "</style>\n",
       "<table border=\"1\" class=\"dataframe\">\n",
       "  <thead>\n",
       "    <tr style=\"text-align: right;\">\n",
       "      <th></th>\n",
       "      <th>user_id</th>\n",
       "      <th>timestamp</th>\n",
       "      <th>group</th>\n",
       "      <th>landing_page</th>\n",
       "      <th>converted</th>\n",
       "    </tr>\n",
       "  </thead>\n",
       "  <tbody>\n",
       "    <tr>\n",
       "      <th>1899</th>\n",
       "      <td>773192</td>\n",
       "      <td>2017-01-09 05:37:58.781806</td>\n",
       "      <td>T</td>\n",
       "      <td>New</td>\n",
       "      <td>0</td>\n",
       "    </tr>\n",
       "    <tr>\n",
       "      <th>2893</th>\n",
       "      <td>773192</td>\n",
       "      <td>2017-01-14 02:55:59.590927</td>\n",
       "      <td>T</td>\n",
       "      <td>New</td>\n",
       "      <td>0</td>\n",
       "    </tr>\n",
       "  </tbody>\n",
       "</table>\n",
       "</div>"
      ],
      "text/plain": [
       "      user_id                   timestamp group landing_page  converted\n",
       "1899   773192  2017-01-09 05:37:58.781806     T          New          0\n",
       "2893   773192  2017-01-14 02:55:59.590927     T          New          0"
      ]
     },
     "execution_count": 16,
     "metadata": {},
     "output_type": "execute_result"
    }
   ],
   "source": [
    "df2[df2.duplicated(['user_id'],\n",
    "                   keep = False)]"
   ]
  },
  {
   "cell_type": "code",
   "execution_count": 17,
   "id": "58f7ca01",
   "metadata": {},
   "outputs": [
    {
     "data": {
      "text/html": [
       "<div>\n",
       "<style scoped>\n",
       "    .dataframe tbody tr th:only-of-type {\n",
       "        vertical-align: middle;\n",
       "    }\n",
       "\n",
       "    .dataframe tbody tr th {\n",
       "        vertical-align: top;\n",
       "    }\n",
       "\n",
       "    .dataframe thead th {\n",
       "        text-align: right;\n",
       "    }\n",
       "</style>\n",
       "<table border=\"1\" class=\"dataframe\">\n",
       "  <thead>\n",
       "    <tr style=\"text-align: right;\">\n",
       "      <th></th>\n",
       "      <th>user_id</th>\n",
       "      <th>timestamp</th>\n",
       "      <th>group</th>\n",
       "      <th>landing_page</th>\n",
       "      <th>converted</th>\n",
       "    </tr>\n",
       "  </thead>\n",
       "  <tbody>\n",
       "    <tr>\n",
       "      <th>1899</th>\n",
       "      <td>773192</td>\n",
       "      <td>2017-01-09 05:37:58.781806</td>\n",
       "      <td>T</td>\n",
       "      <td>New</td>\n",
       "      <td>0</td>\n",
       "    </tr>\n",
       "  </tbody>\n",
       "</table>\n",
       "</div>"
      ],
      "text/plain": [
       "      user_id                   timestamp group landing_page  converted\n",
       "1899   773192  2017-01-09 05:37:58.781806     T          New          0"
      ]
     },
     "execution_count": 17,
     "metadata": {},
     "output_type": "execute_result"
    }
   ],
   "source": [
    "df2 = df2.drop(df2[\n",
    "                   (df2.user_id == 773192) \n",
    "                   & (df2['timestamp'] == '2017-01-14 02:55:59.590927') # drop the 1st one existing in time (date:2017-01-14)\n",
    "                   ]\n",
    "                   .index)\n",
    "\n",
    "# does it check?\n",
    "df2[df2['user_id'] == 773192]"
   ]
  },
  {
   "cell_type": "markdown",
   "id": "e5a5fc55",
   "metadata": {},
   "source": [
    "Before we finally diving into computing any statistic, let us double check we have not created any NaNs as a result of out little Data Manipulation for this second dataset. Is there any value to impute?"
   ]
  },
  {
   "cell_type": "code",
   "execution_count": 18,
   "id": "86b13c5b",
   "metadata": {},
   "outputs": [
    {
     "name": "stdout",
     "output_type": "stream",
     "text": [
      "No values to impute\n"
     ]
    }
   ],
   "source": [
    "if df2.isnull().values.any():\n",
    "    print('Yes, value imputation must be done')\n",
    "else:\n",
    "    print('No values to impute')"
   ]
  },
  {
   "cell_type": "markdown",
   "id": "c5e2ad72",
   "metadata": {},
   "source": [
    "Moving forward, we are ready to have a quick glimpse from a Probabilistic ground."
   ]
  },
  {
   "cell_type": "markdown",
   "id": "5afb152d",
   "metadata": {},
   "source": [
    "The probability that an internet user received the new page is:"
   ]
  },
  {
   "cell_type": "code",
   "execution_count": 19,
   "id": "1020d6f3",
   "metadata": {},
   "outputs": [
    {
     "data": {
      "text/plain": [
       "0.5001"
      ]
     },
     "execution_count": 19,
     "metadata": {},
     "output_type": "execute_result"
    }
   ],
   "source": [
    "p_new_page = df2[\n",
    "                 df2['landing_page'] == 'New'\n",
    "                 ]['group']\\\n",
    "                 .count() \\\n",
    "                    / len(df2)\n",
    "\n",
    "p_new_page.round(4)"
   ]
  },
  {
   "cell_type": "markdown",
   "metadata": {},
   "source": [
    "The probability that an individual converts regardless of the page they receive is:"
   ]
  },
  {
   "cell_type": "code",
   "execution_count": 20,
   "id": "9362796b",
   "metadata": {},
   "outputs": [
    {
     "data": {
      "text/plain": [
       "0.1196"
      ]
     },
     "execution_count": 20,
     "metadata": {},
     "output_type": "execute_result"
    }
   ],
   "source": [
    "df2.converted.mean().round(4)"
   ]
  },
  {
   "cell_type": "markdown",
   "metadata": {},
   "source": [
    "The probability that an individual from `control group` converts is:"
   ]
  },
  {
   "cell_type": "code",
   "execution_count": 21,
   "id": "423a77ee",
   "metadata": {},
   "outputs": [
    {
     "data": {
      "text/plain": [
       "0.12039"
      ]
     },
     "execution_count": 21,
     "metadata": {},
     "output_type": "execute_result"
    }
   ],
   "source": [
    "df_control = df2.query('group == \"C\"')\n",
    "control_convers = df_control.converted.mean()\n",
    "control_convers.round(5)"
   ]
  },
  {
   "cell_type": "markdown",
   "metadata": {},
   "source": [
    "The probability of an individual from `treatment group` converts is:"
   ]
  },
  {
   "cell_type": "code",
   "execution_count": 22,
   "id": "25fac8b6",
   "metadata": {},
   "outputs": [
    {
     "data": {
      "text/plain": [
       "0.11881"
      ]
     },
     "execution_count": 22,
     "metadata": {},
     "output_type": "execute_result"
    }
   ],
   "source": [
    "df_treatment = df2.query('group == \"T\"')\n",
    "treatment_convers = df_treatment.converted.mean()\n",
    "treatment_convers.round(5)"
   ]
  },
  {
   "cell_type": "markdown",
   "id": "1a3f1edf",
   "metadata": {},
   "source": [
    "Having computed these two last values, we can determine the difference between them so as to asses whether or not the new website produces more conversions"
   ]
  },
  {
   "cell_type": "code",
   "execution_count": 23,
   "id": "db5fe6a8",
   "metadata": {},
   "outputs": [
    {
     "data": {
      "text/plain": [
       "-0.001578"
      ]
     },
     "execution_count": 23,
     "metadata": {},
     "output_type": "execute_result"
    }
   ],
   "source": [
    "observed_diff = treatment_convers - control_convers\n",
    "observed_diff.round(6)"
   ]
  },
  {
   "cell_type": "markdown",
   "metadata": {},
   "source": [
    "It is flagrantly obvious that, despite the new version even leads to slighter less conversion than the previous version (this is : control being higher than treatment),  there's not enough evidence to neither ascertain that the new design factually leads to less conversions. And that is why we seek responses within Statistics."
   ]
  },
  {
   "cell_type": "markdown",
   "id": "c4f939cd",
   "metadata": {},
   "source": [
    "[Back to Index](#index)"
   ]
  },
  {
   "cell_type": "markdown",
   "id": "9c5b9538",
   "metadata": {},
   "source": [
    "### 3. Statistical approach"
   ]
  },
  {
   "cell_type": "markdown",
   "id": "fbd19f05",
   "metadata": {},
   "source": [
    "Let us consider that we are to make a decision solely from the findings on the dataset provided. Also, let the Null Hypothesis $H_0$ exist in terms of $p_{prev}$ and $p_{new}$, these being the converted rates for the previous and new pages, respectively. \n",
    "\n",
    "This is to state:"
   ]
  },
  {
   "cell_type": "markdown",
   "id": "b2acbdcf",
   "metadata": {},
   "source": [
    "\n",
    "\\begin{equation}\n",
    "\\ H_0 : p_{new} -  p_{prev} \\le 0\n",
    "\\end{equation}\n",
    "\n",
    "\n",
    "\\begin{equation}\n",
    "\\ H_1 : p_{new} -  p_{prev} > 0\n",
    "\\end{equation}"
   ]
  },
  {
   "cell_type": "markdown",
   "metadata": {},
   "source": [
    "Then, and always under $H_0$, we also assume that both $p_{new}$  and $p_{prev}$ have _true_ success rates and these both are also equal to the **converted** success rate, _regardless of page_. \n",
    "\n",
    "\n",
    "We will then perform a sampling distribution for the difference in converted rate between the two pages over 10,000 iterations of calculating an estimate from $H_0$,.\n",
    "\n",
    "First off, we are to retrieve $p_{new}$ as we computed previously. That was to code :"
   ]
  },
  {
   "cell_type": "code",
   "execution_count": 24,
   "id": "25f88ed5",
   "metadata": {},
   "outputs": [
    {
     "data": {
      "text/plain": [
       "0.119597"
      ]
     },
     "execution_count": 24,
     "metadata": {},
     "output_type": "execute_result"
    }
   ],
   "source": [
    "p_new = df2['converted'].sum() / len(df2)\n",
    "p_prev = p_new\n",
    "p_new.round(6)"
   ]
  },
  {
   "cell_type": "markdown",
   "id": "1f3125ce",
   "metadata": {},
   "source": [
    "Please note as mentioned some cells above, $p_{prev}$ equals to $p_{new}$. Moving foward, what are $n_{prev}$ and $n_{new}$?"
   ]
  },
  {
   "cell_type": "code",
   "execution_count": 25,
   "id": "156f08ed",
   "metadata": {},
   "outputs": [
    {
     "name": "stdout",
     "output_type": "stream",
     "text": [
      "n_prev: 145274 \n",
      "n_new: 145310\n"
     ]
    }
   ],
   "source": [
    "\n",
    "n_new = len(df2.query(\"landing_page == 'New'\"))\n",
    "\n",
    "# ...or using shape property as a subscriptable object, we can code:\n",
    "n_prev  = df2.query(\"landing_page == 'Previous'\").shape[0]\n",
    "\n",
    "print(\n",
    "    f\"{'n_prev:'}{n_prev : > 2}\",\n",
    "    f\"\\n{'n_new:'}{n_new : > 2}\",\n",
    ")"
   ]
  },
  {
   "cell_type": "markdown",
   "id": "71de00d6",
   "metadata": {},
   "source": [
    "A easier and more visual manner to select these values results when we code:"
   ]
  },
  {
   "cell_type": "code",
   "execution_count": 26,
   "id": "297fa309",
   "metadata": {},
   "outputs": [
    {
     "data": {
      "text/plain": [
       "group  landing_page\n",
       "C      Previous        145274\n",
       "T      New             145310\n",
       "Name: landing_page, dtype: int64"
      ]
     },
     "execution_count": 26,
     "metadata": {},
     "output_type": "execute_result"
    }
   ],
   "source": [
    "df2.groupby(['group', 'landing_page'])['landing_page'].count()"
   ]
  },
  {
   "cell_type": "markdown",
   "id": "92abe574",
   "metadata": {},
   "source": [
    "Let us simulate $n_{new}$ transactions with a convert rate of $p_{new}$. We will store these $n_{new}$ 1's and 0's in `new_page_converted` variable, as follows :"
   ]
  },
  {
   "cell_type": "code",
   "execution_count": 27,
   "id": "91fdf101",
   "metadata": {},
   "outputs": [
    {
     "data": {
      "text/plain": [
       "0.1191"
      ]
     },
     "execution_count": 27,
     "metadata": {},
     "output_type": "execute_result"
    }
   ],
   "source": [
    "new_sample = df_treatment.sample(n_new,\n",
    "                                 replace = True)\n",
    "new_page_converted = new_sample['converted']\n",
    "p_new = new_page_converted.mean()\n",
    "p_new.round(4)"
   ]
  },
  {
   "cell_type": "markdown",
   "id": "f9cf403a",
   "metadata": {},
   "source": [
    "Then we are to proceed the same manner with the old website:"
   ]
  },
  {
   "cell_type": "code",
   "execution_count": 28,
   "id": "04852d60",
   "metadata": {},
   "outputs": [
    {
     "data": {
      "text/plain": [
       "0.1191"
      ]
     },
     "execution_count": 28,
     "metadata": {},
     "output_type": "execute_result"
    }
   ],
   "source": [
    "prev_sample = df_control.sample(n_prev,\n",
    "                                 replace = True)\n",
    "prev_page_converted = new_sample['converted']\n",
    "p_prev = prev_page_converted.mean()\n",
    "p_prev.round(4)"
   ]
  },
  {
   "cell_type": "markdown",
   "id": "f346db12",
   "metadata": {},
   "source": [
    "We can see then the difference between these two values"
   ]
  },
  {
   "cell_type": "code",
   "execution_count": 29,
   "id": "1eb9a05c",
   "metadata": {},
   "outputs": [
    {
     "data": {
      "text/plain": [
       "0.0"
      ]
     },
     "execution_count": 29,
     "metadata": {},
     "output_type": "execute_result"
    }
   ],
   "source": [
    "simulated_p_diff = p_new - p_prev\n",
    "simulated_p_diff.round(9)"
   ]
  },
  {
   "cell_type": "markdown",
   "id": "bc0f6b57",
   "metadata": {},
   "source": [
    "And here is where the usefulness of bootstrapping holds a crucial role in order to get the Sampling Distribution in Hypothesis Testing. We are to simulate over 10000 values of the differences of conversions between both pages:"
   ]
  },
  {
   "cell_type": "code",
   "execution_count": 30,
   "id": "b516bcf8",
   "metadata": {},
   "outputs": [],
   "source": [
    "p_diff = []\n",
    "control_conv_prob = []\n",
    "treatment_conv_prob = []\n",
    "repeats = 10000 \n",
    "\n",
    "for _ in range(repeats):\n",
    "    sample_prev = df_control.sample(n_prev,\n",
    "                              replace = True)\n",
    "    sample_new = df_treatment.sample(n_new,\n",
    "                                replace = True)\n",
    "\n",
    "    control_conversion = sample_prev['converted'].sum() / n_prev\n",
    "    treatment_conversion = sample_new['converted'].sum() / n_new\n",
    "\n",
    "    treatment_conv_prob.append(treatment_conversion)\n",
    "    control_conv_prob.append(control_conversion)\n",
    "    p_diff.append(treatment_conversion - control_conversion)\n",
    "    \n",
    "p_diff = np.array(p_diff)"
   ]
  },
  {
   "cell_type": "markdown",
   "id": "1c2e6bc3",
   "metadata": {},
   "source": [
    "Please note that we could have utilized the numpy function `binomial` to compute the control and treatment conversions,  but that would have consumed even more time and memory.\n",
    "\n",
    "Before we analyze these increments of p-values `p_diffs` between different pages, let us briefly plot a histogram with both of these distributions:  \n"
   ]
  },
  {
   "cell_type": "code",
   "execution_count": 92,
   "id": "6d82756f",
   "metadata": {},
   "outputs": [
    {
     "data": {
      "image/png": "[encoded data removed]",
      "text/plain": [
       "<Figure size 640x480 with 1 Axes>"
      ]
     },
     "metadata": {},
     "output_type": "display_data"
    }
   ],
   "source": [
    "plt.hist(control_conv_prob, label = 'Control',\n",
    "         alpha=.7, bins = 60,  color='blue')\n",
    "plt.hist(treatment_conv_prob, label = 'Treatment',\n",
    "         alpha=.7, bins = 60, color='red')\n",
    "plt.title('Sampling distribution')\n",
    "plt.xlabel('p-value')\n",
    "plt.ylabel('Frequency of Conversion')\n",
    "plt.legend();"
   ]
  },
  {
   "cell_type": "markdown",
   "metadata": {},
   "source": [
    " We are to find the probability that this difference of p-values is less or equal to zero ( existance of $H_0$ ):"
   ]
  },
  {
   "cell_type": "code",
   "execution_count": 32,
   "id": "d51c3c08",
   "metadata": {},
   "outputs": [
    {
     "data": {
      "text/plain": [
       "90.44"
      ]
     },
     "execution_count": 32,
     "metadata": {},
     "output_type": "execute_result"
    }
   ],
   "source": [
    "stats.percentileofscore(p_diff, 0).round(4)\n",
    "# or, for the same end,  (p_diffs < 0).mean() for a per-unitary value"
   ]
  },
  {
   "cell_type": "markdown",
   "metadata": {},
   "source": [
    "This is indicating that - and **solely as an indication of the weight of the evidence in favour of $H_0$** - there would be around a 90% of chance that the difference between p-values is less or equal to zero, and so that we would fail to reject $H_0$.\n",
    "\n",
    " We can visualize this by rendering the following plot if we code :"
   ]
  },
  {
   "cell_type": "code",
   "execution_count": 91,
   "id": "c229fb73",
   "metadata": {},
   "outputs": [
    {
     "data": {
      "image/png": "[encoded data removed]",
      "text/plain": [
       "<Figure size 640x480 with 1 Axes>"
      ]
     },
     "metadata": {},
     "output_type": "display_data"
    }
   ],
   "source": [
    "plt.hist(p_diff, bins = 60)\n",
    "\n",
    "# setting the threshold value, as per $H_0$\n",
    "plt.axvline(x = 0, color='black', label = 'Threshold of $H_0$')\n",
    "\n",
    "plt.title('Sampling distribution')\n",
    "plt.xlabel(\"Increment of p-values (Treat. minus Control)\")\n",
    "plt.ylabel('Frequency of Conversion')\n",
    "plt.legend();"
   ]
  },
  {
   "cell_type": "code",
   "execution_count": 34,
   "id": "553cbab6",
   "metadata": {},
   "outputs": [
    {
     "data": {
      "text/plain": [
       "90.44"
      ]
     },
     "execution_count": 34,
     "metadata": {},
     "output_type": "execute_result"
    }
   ],
   "source": [
    "stats.percentileofscore(p_diff, 0)"
   ]
  },
  {
   "cell_type": "code",
   "execution_count": 35,
   "id": "11a8f10a",
   "metadata": {},
   "outputs": [
    {
     "data": {
      "text/plain": [
       "0.00123"
      ]
     },
     "execution_count": 35,
     "metadata": {},
     "output_type": "execute_result"
    }
   ],
   "source": [
    " p_diff.std().round(6)"
   ]
  },
  {
   "cell_type": "markdown",
   "id": "b0829051",
   "metadata": {},
   "source": [
    "Let us visualize a normal distribution centered in the std of this new increment of p-values `p_diff` found by means of bootstrap distribution. We are also to plot the previously found `observed_diff` we found in the probabilistic section:  as well as the threshold from which we would be able to reject $H_0$ :"
   ]
  },
  {
   "cell_type": "code",
   "execution_count": 88,
   "id": "749c5a5f",
   "metadata": {},
   "outputs": [
    {
     "data": {
      "image/png": "[encoded data removed]",
      "text/plain": [
       "<Figure size 640x480 with 1 Axes>"
      ]
     },
     "metadata": {},
     "output_type": "display_data"
    }
   ],
   "source": [
    "random.seed(42)\n",
    "null_vals = np.random.normal(0, p_diff.std(), repeats)\n",
    "percent_95th = np.percentile(null_vals, 95)\n",
    "\n",
    "plt.hist(null_vals, bins = 60)\n",
    "\n",
    "plt.axvline(x = observed_diff, color='purple', label = 'obs. difference')\n",
    "plt.axvline(x = percent_95th,\n",
    "            color='green' , label = '95th percentile')\n",
    "plt.xlabel(\"Increment of p-values (Treat. minus Control)\")\n",
    "plt.ylabel('Frequency of Conversion')\n",
    "plt.legend();"
   ]
  },
  {
   "cell_type": "code",
   "execution_count": 37,
   "id": "f209eda0",
   "metadata": {},
   "outputs": [
    {
     "name": "stdout",
     "output_type": "stream",
     "text": [
      "observed_diff:-0.0016 \n",
      "percent_95th: 0.002\n"
     ]
    }
   ],
   "source": [
    "print(\n",
    "    f\"{'observed_diff:'}{observed_diff.round(4) : > 2}\",\n",
    "    f\"\\n{'percent_95th:'}{percent_95th.round(4) : > 2}\",\n",
    ")"
   ]
  },
  {
   "cell_type": "markdown",
   "id": "fa019bfd",
   "metadata": {},
   "source": [
    "This is merely stating that we would be only able to reject $H_0$ if the observed difference was higher than .002"
   ]
  },
  {
   "cell_type": "markdown",
   "id": "4bb5cf74",
   "metadata": {},
   "source": [
    "Next, let us compute the proportion of the difference of p-values `p_diff` which are greater than the actual or observed difference in our dataset :"
   ]
  },
  {
   "cell_type": "code",
   "execution_count": 38,
   "id": "143f2281",
   "metadata": {},
   "outputs": [
    {
     "data": {
      "text/plain": [
       "0.5002"
      ]
     },
     "execution_count": 38,
     "metadata": {},
     "output_type": "execute_result"
    }
   ],
   "source": [
    "(p_diff > observed_diff).mean()"
   ]
  },
  {
   "cell_type": "markdown",
   "id": "53be5c95",
   "metadata": {},
   "source": [
    "And considering the N distribution centered in the std of `p_diff` ,  this proportion results to be:"
   ]
  },
  {
   "cell_type": "code",
   "execution_count": 39,
   "id": "d3776ec6",
   "metadata": {},
   "outputs": [
    {
     "data": {
      "text/plain": [
       "0.9016"
      ]
     },
     "execution_count": 39,
     "metadata": {},
     "output_type": "execute_result"
    }
   ],
   "source": [
    "p_value = (null_vals > observed_diff).mean()\n",
    "p_value"
   ]
  },
  {
   "cell_type": "markdown",
   "id": "f991bdf3",
   "metadata": {},
   "source": [
    "Or analogously using _statsmodels_:"
   ]
  },
  {
   "cell_type": "code",
   "execution_count": 40,
   "id": "8f149c2a",
   "metadata": {},
   "outputs": [
    {
     "data": {
      "text/plain": [
       "0.9016"
      ]
     },
     "execution_count": 40,
     "metadata": {},
     "output_type": "execute_result"
    }
   ],
   "source": [
    "p_value = 1 - stats.percentileofscore(null_vals, observed_diff) / 100\n",
    "p_value.round(4)"
   ]
  },
  {
   "cell_type": "markdown",
   "id": "7ae5298b",
   "metadata": {},
   "source": [
    "We would only be able to reject the null if the observed difference was higher than:"
   ]
  },
  {
   "cell_type": "code",
   "execution_count": 41,
   "id": "46af189b",
   "metadata": {},
   "outputs": [
    {
     "data": {
      "text/plain": [
       "0.00202789"
      ]
     },
     "execution_count": 41,
     "metadata": {},
     "output_type": "execute_result"
    }
   ],
   "source": [
    "np.percentile(null_vals, 95).round(8)"
   ]
  },
  {
   "cell_type": "markdown",
   "id": "35a392cf",
   "metadata": {},
   "source": [
    "And in both cases, Probabilistic and Hypothesis Testing, these values result to be:"
   ]
  },
  {
   "cell_type": "code",
   "execution_count": 42,
   "id": "bbc55bb8",
   "metadata": {},
   "outputs": [
    {
     "name": "stdout",
     "output_type": "stream",
     "text": [
      "observed_diff (Probabilistic):-0.0016 \n",
      "p_diff (Hypothesis Testing): 0.00123\n"
     ]
    }
   ],
   "source": [
    "print(\n",
    "    f\"{'observed_diff (Probabilistic):'}{observed_diff.round(5).round(4) : > 2}\",\n",
    "    f\"\\n{'p_diff (Hypothesis Testing):'}{ p_diff.std().round(6) : > 2}\"\n",
    ")"
   ]
  },
  {
   "cell_type": "markdown",
   "id": "358e4097",
   "metadata": {},
   "source": [
    "We then still fail to reject $H_0$ - considering a Type I error rate of 5% - and hence,  there are no reasons to not keep the previous website.\n",
    "\n",
    "We could reach similar conclusions while keeping our code shorter through the use of the statsmodels module and its built-in fuctions. Therefore, we are to calculate the number of conversions for each page, as well as the number of individuals who received each page. \n",
    "\n",
    "Let n_prev and n_new refer the  number of rows associated with the previous page and new pages, respectively."
   ]
  },
  {
   "cell_type": "code",
   "execution_count": 43,
   "id": "266af2ae",
   "metadata": {},
   "outputs": [],
   "source": [
    "convert_prev = df2.query('(converted == 1) & (group == \"C\")').count()\n",
    "convert_new = df2.query('(converted == 1) & (group == \"T\")').count()\n",
    "\n",
    "n_prev = df2.query('group == \"C\"').count()\n",
    "n_new = df2.query('group == \"T\"').count()"
   ]
  },
  {
   "cell_type": "markdown",
   "id": "7d9e38bd",
   "metadata": {},
   "source": [
    "We define the arguments to be used by utilizing the same nomenclature as in the _statsmodels_ literature:"
   ]
  },
  {
   "cell_type": "code",
   "execution_count": 44,
   "id": "9defa14a",
   "metadata": {},
   "outputs": [],
   "source": [
    "counts = [convert_new.iloc[0],\n",
    "          convert_prev.iloc[0]]\n",
    "\n",
    "nobs = [n_new.iloc[0],\n",
    "        n_prev.iloc[0]]"
   ]
  },
  {
   "cell_type": "markdown",
   "id": "00c107f9",
   "metadata": {},
   "source": [
    "We then are ready to compute the test for proportions based on normal (z) test:\n"
   ]
  },
  {
   "cell_type": "code",
   "execution_count": 45,
   "id": "de4b7dbd",
   "metadata": {},
   "outputs": [
    {
     "name": "stdout",
     "output_type": "stream",
     "text": [
      "\n",
      "p_value: 0.9051 \n",
      "z_score:-1.3109 \n",
      "critical_value: 1.6449\n"
     ]
    }
   ],
   "source": [
    "\n",
    "z_score, p_value = sm.stats.proportions_ztest(counts,\n",
    "                                              nobs,\n",
    "                                              alternative = 'larger') # hyp.it's one-tailed (smaller or equal than zero)\n",
    "\n",
    "# for a Type I error rate of 5%\n",
    "critical_value = norm.ppf(1 - (0.05))\n",
    "\n",
    "print(\n",
    "    f\"\\n{'p_value:'}{p_value.round(4) : > 2}\",\n",
    "    f\"\\n{'z_score:'}{z_score.round(4) : > 2}\",\n",
    "    f\"\\n{'critical_value:'}{critical_value.round(4) : > 2}\"\n",
    ")"
   ]
  },
  {
   "cell_type": "markdown",
   "id": "dbb39649",
   "metadata": {},
   "source": [
    "We are still unable to reject $H_0$ for the z-score is lower than the critical value defined by the 5% Type I error we mentioned earlier."
   ]
  },
  {
   "cell_type": "markdown",
   "id": "daeb83ef",
   "metadata": {},
   "source": [
    "Let us plot this findings in a Density plot for a random normal distribution. For the argument \"size\", we will pass the value of the variable  `repeats` we utilized when bootstraping:"
   ]
  },
  {
   "cell_type": "code",
   "execution_count": 46,
   "id": "3209f6e5",
   "metadata": {},
   "outputs": [
    {
     "name": "stdout",
     "output_type": "stream",
     "text": [
      "\n",
      "z_score:-1.3109 \n",
      "critical_value: 1.6449\n"
     ]
    },
    {
     "data": {
      "image/png": "[encoded data removed]",
      "text/plain": [
       "<Figure size 640x480 with 1 Axes>"
      ]
     },
     "metadata": {},
     "output_type": "display_data"
    }
   ],
   "source": [
    "# density plot\n",
    "g = sns.distplot(np.random.normal(0, 1, repeats))\n",
    "g.axvline(x = z_score, color='black', label = 'z_score')\n",
    "g.axvline(x = critical_value, color='red', label = 'critical value')\n",
    "plt.title('PDF')\n",
    "plt.xlabel(\"x\")\n",
    "plt.ylabel('Density')\n",
    "plt.legend(loc = 'upper left')\n",
    "print(\n",
    "    f\"\\n{'z_score:'}{z_score.round(4) : > 2}\",\n",
    "    f\"\\n{'critical_value:'}{critical_value.round(4) : > 2}\"\n",
    ");"
   ]
  },
  {
   "cell_type": "markdown",
   "id": "5447f2ca",
   "metadata": {},
   "source": [
    "Likewise for a Cumulative Distribution Function:"
   ]
  },
  {
   "cell_type": "code",
   "execution_count": 47,
   "id": "ce01d48c",
   "metadata": {},
   "outputs": [
    {
     "data": {
      "image/png": "[encoded data removed]",
      "text/plain": [
       "<Figure size 640x480 with 1 Axes>"
      ]
     },
     "metadata": {},
     "output_type": "display_data"
    }
   ],
   "source": [
    "# cdf plot\n",
    "plt.hist(np.random.normal(0, 1, repeats),\n",
    "         cumulative = True, density = True, \n",
    "         bins = 60, alpha = .7\n",
    "        )\n",
    "\n",
    "plt.axvline(x = z_score, label = 'z_score',\n",
    "            color = 'black')\n",
    "plt.axvline(x = critical_value, label = 'critical value',\n",
    "            color = 'red')\n",
    "plt.title('CDF')\n",
    "plt.xlabel('x')\n",
    "plt.ylabel('p')\n",
    "plt.legend(loc = 'upper left');"
   ]
  },
  {
   "cell_type": "markdown",
   "id": "f7ab98d0",
   "metadata": {},
   "source": [
    "Let us compute and locate the percentile in which z-score is found:"
   ]
  },
  {
   "cell_type": "code",
   "execution_count": 48,
   "id": "f08d7c9a",
   "metadata": {},
   "outputs": [
    {
     "data": {
      "text/plain": [
       "0.0949"
      ]
     },
     "execution_count": 48,
     "metadata": {},
     "output_type": "execute_result"
    }
   ],
   "source": [
    "# z-score is on the 10th percentile of the distribution \n",
    "z_score_percentile = norm.cdf(z_score)\n",
    "z_score_percentile.round(4)"
   ]
  },
  {
   "cell_type": "code",
   "execution_count": 49,
   "id": "3b82a686",
   "metadata": {},
   "outputs": [
    {
     "data": {
      "text/plain": [
       "0.9051"
      ]
     },
     "execution_count": 49,
     "metadata": {},
     "output_type": "execute_result"
    }
   ],
   "source": [
    "# p-value can be calculated as follows from the z-score\n",
    "p_value = 1 - z_score_percentile\n",
    "p_value.round(4)"
   ]
  },
  {
   "cell_type": "markdown",
   "id": "73b49f76",
   "metadata": {},
   "source": [
    "And so, we can ascertain that there is insufficient evidence to support the notion that the new page results in increased conversions. Hence, maintaining the previous page is most advisable.\n",
    "\n",
    "In order to visualize this, we are to take a regression approach to conclude this notebook."
   ]
  },
  {
   "cell_type": "markdown",
   "id": "dbf01dc3",
   "metadata": {},
   "source": [
    "[Back to Index](#index)"
   ]
  },
  {
   "cell_type": "markdown",
   "id": "c4db8591",
   "metadata": {},
   "source": [
    "### 4. Logistic Regression for confirmation of conclusions\n"
   ]
  },
  {
   "cell_type": "markdown",
   "id": "95d658ab",
   "metadata": {},
   "source": [
    "Since the object of our analysis is a discrete variable, the type of regression to used shall be Logistic. We are to check by means of Logistic Regression the findings already discussed so far.\n",
    "\n",
    "We will be employing _statsmodels_ and  _sklearn_ for fitting the regression model outlined in the probabilistic approach. This aims to determine whether there is a noteworthy variation in conversion depending on the page a customer is assigned. \n",
    "\n",
    "Nonetheless, before proceeding, it is essential to define two new columns: an `intercept` column and a dummy variable column `ab_page` indicating the page each user is to be assigned. This is, for the latter, it will take a value of 1 when an website visitor receives the treatment version, or 0 if it's redirected to the previous ( control ) version group."
   ]
  },
  {
   "cell_type": "code",
   "execution_count": 50,
   "id": "d31221e0",
   "metadata": {},
   "outputs": [
    {
     "data": {
      "text/plain": [
       "Index(['user_id', 'timestamp', 'group', 'landing_page', 'converted'], dtype='object')"
      ]
     },
     "execution_count": 50,
     "metadata": {},
     "output_type": "execute_result"
    }
   ],
   "source": [
    "df2.columns"
   ]
  },
  {
   "cell_type": "code",
   "execution_count": 51,
   "id": "0ba593ee",
   "metadata": {},
   "outputs": [
    {
     "data": {
      "text/html": [
       "<div>\n",
       "<style scoped>\n",
       "    .dataframe tbody tr th:only-of-type {\n",
       "        vertical-align: middle;\n",
       "    }\n",
       "\n",
       "    .dataframe tbody tr th {\n",
       "        vertical-align: top;\n",
       "    }\n",
       "\n",
       "    .dataframe thead th {\n",
       "        text-align: right;\n",
       "    }\n",
       "</style>\n",
       "<table border=\"1\" class=\"dataframe\">\n",
       "  <thead>\n",
       "    <tr style=\"text-align: right;\">\n",
       "      <th></th>\n",
       "      <th>user_id</th>\n",
       "      <th>timestamp</th>\n",
       "      <th>group</th>\n",
       "      <th>landing_page</th>\n",
       "      <th>converted</th>\n",
       "      <th>intercept</th>\n",
       "      <th>ab_page</th>\n",
       "    </tr>\n",
       "  </thead>\n",
       "  <tbody>\n",
       "    <tr>\n",
       "      <th>0</th>\n",
       "      <td>851104</td>\n",
       "      <td>2017-01-21 22:11:48.556739</td>\n",
       "      <td>C</td>\n",
       "      <td>Previous</td>\n",
       "      <td>0</td>\n",
       "      <td>1</td>\n",
       "      <td>0</td>\n",
       "    </tr>\n",
       "    <tr>\n",
       "      <th>1</th>\n",
       "      <td>804228</td>\n",
       "      <td>2017-01-12 08:01:45.159739</td>\n",
       "      <td>C</td>\n",
       "      <td>Previous</td>\n",
       "      <td>0</td>\n",
       "      <td>1</td>\n",
       "      <td>0</td>\n",
       "    </tr>\n",
       "    <tr>\n",
       "      <th>2</th>\n",
       "      <td>661590</td>\n",
       "      <td>2017-01-11 16:55:06.154213</td>\n",
       "      <td>T</td>\n",
       "      <td>New</td>\n",
       "      <td>0</td>\n",
       "      <td>1</td>\n",
       "      <td>1</td>\n",
       "    </tr>\n",
       "    <tr>\n",
       "      <th>3</th>\n",
       "      <td>853541</td>\n",
       "      <td>2017-01-08 18:28:03.143765</td>\n",
       "      <td>T</td>\n",
       "      <td>New</td>\n",
       "      <td>0</td>\n",
       "      <td>1</td>\n",
       "      <td>1</td>\n",
       "    </tr>\n",
       "    <tr>\n",
       "      <th>4</th>\n",
       "      <td>864975</td>\n",
       "      <td>2017-01-21 01:52:26.210827</td>\n",
       "      <td>C</td>\n",
       "      <td>Previous</td>\n",
       "      <td>1</td>\n",
       "      <td>1</td>\n",
       "      <td>0</td>\n",
       "    </tr>\n",
       "  </tbody>\n",
       "</table>\n",
       "</div>"
      ],
      "text/plain": [
       "   user_id                   timestamp group landing_page  converted  \\\n",
       "0   851104  2017-01-21 22:11:48.556739     C     Previous          0   \n",
       "1   804228  2017-01-12 08:01:45.159739     C     Previous          0   \n",
       "2   661590  2017-01-11 16:55:06.154213     T          New          0   \n",
       "3   853541  2017-01-08 18:28:03.143765     T          New          0   \n",
       "4   864975  2017-01-21 01:52:26.210827     C     Previous          1   \n",
       "\n",
       "   intercept  ab_page  \n",
       "0          1        0  \n",
       "1          1        0  \n",
       "2          1        1  \n",
       "3          1        1  \n",
       "4          1        0  "
      ]
     },
     "execution_count": 51,
     "metadata": {},
     "output_type": "execute_result"
    }
   ],
   "source": [
    "df2['intercept'] = 1\n",
    "df2['ab_page'] = pd.get_dummies(df2['group'],\n",
    "                                dtype = int )['T']\n",
    "df2.head()"
   ]
  },
  {
   "cell_type": "code",
   "execution_count": 52,
   "id": "1c751ef0",
   "metadata": {},
   "outputs": [
    {
     "name": "stdout",
     "output_type": "stream",
     "text": [
      "Optimization terminated successfully.\n",
      "         Current function value: 0.366118\n",
      "         Iterations 6\n"
     ]
    }
   ],
   "source": [
    "logit_m = sm.Logit(df2['converted'],\n",
    "                   df2[\n",
    "                       ['intercept','ab_page']\n",
    "                      ]\n",
    "                  )\n",
    "results = logit_m.fit()"
   ]
  },
  {
   "cell_type": "code",
   "execution_count": 53,
   "id": "087c5465",
   "metadata": {},
   "outputs": [
    {
     "data": {
      "text/html": [
       "<table class=\"simpletable\">\n",
       "<caption>Logit Regression Results</caption>\n",
       "<tr>\n",
       "  <th>Dep. Variable:</th>       <td>converted</td>    <th>  No. Observations:  </th>   <td>290584</td>   \n",
       "</tr>\n",
       "<tr>\n",
       "  <th>Model:</th>                 <td>Logit</td>      <th>  Df Residuals:      </th>   <td>290582</td>   \n",
       "</tr>\n",
       "<tr>\n",
       "  <th>Method:</th>                 <td>MLE</td>       <th>  Df Model:          </th>   <td>     1</td>   \n",
       "</tr>\n",
       "<tr>\n",
       "  <th>Date:</th>            <td>Sat, 23 Dec 2023</td> <th>  Pseudo R-squ.:     </th>  <td>8.077e-06</td> \n",
       "</tr>\n",
       "<tr>\n",
       "  <th>Time:</th>                <td>11:42:27</td>     <th>  Log-Likelihood:    </th> <td>-1.0639e+05</td>\n",
       "</tr>\n",
       "<tr>\n",
       "  <th>converged:</th>             <td>True</td>       <th>  LL-Null:           </th> <td>-1.0639e+05</td>\n",
       "</tr>\n",
       "<tr>\n",
       "  <th>Covariance Type:</th>     <td>nonrobust</td>    <th>  LLR p-value:       </th>   <td>0.1899</td>   \n",
       "</tr>\n",
       "</table>\n",
       "<table class=\"simpletable\">\n",
       "<tr>\n",
       "      <td></td>         <th>coef</th>     <th>std err</th>      <th>z</th>      <th>P>|z|</th>  <th>[0.025</th>    <th>0.975]</th>  \n",
       "</tr>\n",
       "<tr>\n",
       "  <th>intercept</th> <td>   -1.9888</td> <td>    0.008</td> <td> -246.669</td> <td> 0.000</td> <td>   -2.005</td> <td>   -1.973</td>\n",
       "</tr>\n",
       "<tr>\n",
       "  <th>ab_page</th>   <td>   -0.0150</td> <td>    0.011</td> <td>   -1.311</td> <td> 0.190</td> <td>   -0.037</td> <td>    0.007</td>\n",
       "</tr>\n",
       "</table>"
      ],
      "text/latex": [
       "\\begin{center}\n",
       "\\begin{tabular}{lclc}\n",
       "\\toprule\n",
       "\\textbf{Dep. Variable:}   &    converted     & \\textbf{  No. Observations:  } &    290584    \\\\\n",
       "\\textbf{Model:}           &      Logit       & \\textbf{  Df Residuals:      } &    290582    \\\\\n",
       "\\textbf{Method:}          &       MLE        & \\textbf{  Df Model:          } &         1    \\\\\n",
       "\\textbf{Date:}            & Sat, 23 Dec 2023 & \\textbf{  Pseudo R-squ.:     } &  8.077e-06   \\\\\n",
       "\\textbf{Time:}            &     11:42:27     & \\textbf{  Log-Likelihood:    } & -1.0639e+05  \\\\\n",
       "\\textbf{converged:}       &       True       & \\textbf{  LL-Null:           } & -1.0639e+05  \\\\\n",
       "\\textbf{Covariance Type:} &    nonrobust     & \\textbf{  LLR p-value:       } &    0.1899    \\\\\n",
       "\\bottomrule\n",
       "\\end{tabular}\n",
       "\\begin{tabular}{lcccccc}\n",
       "                   & \\textbf{coef} & \\textbf{std err} & \\textbf{z} & \\textbf{P$> |$z$|$} & \\textbf{[0.025} & \\textbf{0.975]}  \\\\\n",
       "\\midrule\n",
       "\\textbf{intercept} &      -1.9888  &        0.008     &  -246.669  &         0.000        &       -2.005    &       -1.973     \\\\\n",
       "\\textbf{ab\\_page}  &      -0.0150  &        0.011     &    -1.311  &         0.190        &       -0.037    &        0.007     \\\\\n",
       "\\bottomrule\n",
       "\\end{tabular}\n",
       "%\\caption{Logit Regression Results}\n",
       "\\end{center}"
      ],
      "text/plain": [
       "<class 'statsmodels.iolib.summary.Summary'>\n",
       "\"\"\"\n",
       "                           Logit Regression Results                           \n",
       "==============================================================================\n",
       "Dep. Variable:              converted   No. Observations:               290584\n",
       "Model:                          Logit   Df Residuals:                   290582\n",
       "Method:                           MLE   Df Model:                            1\n",
       "Date:                Sat, 23 Dec 2023   Pseudo R-squ.:               8.077e-06\n",
       "Time:                        11:42:27   Log-Likelihood:            -1.0639e+05\n",
       "converged:                       True   LL-Null:                   -1.0639e+05\n",
       "Covariance Type:            nonrobust   LLR p-value:                    0.1899\n",
       "==============================================================================\n",
       "                 coef    std err          z      P>|z|      [0.025      0.975]\n",
       "------------------------------------------------------------------------------\n",
       "intercept     -1.9888      0.008   -246.669      0.000      -2.005      -1.973\n",
       "ab_page       -0.0150      0.011     -1.311      0.190      -0.037       0.007\n",
       "==============================================================================\n",
       "\"\"\""
      ]
     },
     "execution_count": 53,
     "metadata": {},
     "output_type": "execute_result"
    }
   ],
   "source": [
    "results.summary()"
   ]
  },
  {
   "cell_type": "markdown",
   "id": "b75de433",
   "metadata": {},
   "source": [
    "Please note that this is a **two-tailed hypothesis test** with two different critical regions. These are: \"the new page leads to significanlty greater or smaller conversion rates\". In contrast, in our previous **one-tailed hypothesis test**, this region was confined in only one side of the normal distribution, this being \"the new website has higher conversion rate than the previous one\".\n",
    "\n",
    "Let us plot this to have a better concept:\n"
   ]
  },
  {
   "cell_type": "code",
   "execution_count": 90,
   "id": "b84d4cff",
   "metadata": {},
   "outputs": [
    {
     "name": "stdout",
     "output_type": "stream",
     "text": [
      "2.5th percentile: -0.002429\n",
      "Observed_diff: -0.001578\n",
      "97.5th percentile: 0.002408\n"
     ]
    },
    {
     "data": {
      "image/png": "[encoded data removed]",
      "text/plain": [
       "<Figure size 640x480 with 1 Axes>"
      ]
     },
     "metadata": {},
     "output_type": "display_data"
    }
   ],
   "source": [
    "plt.hist(null_vals, bins = 60)\n",
    "\n",
    "plt.axvline(x = np.percentile(null_vals, 2.5), color='orange', label = '2.5 th perc.')\n",
    "plt.axvline(x = observed_diff, color='black', label = 'observed diff.')\n",
    "plt.axvline(x = np.percentile(null_vals, 97.5), color='red', label = '97.5 th perc.')\n",
    "plt.legend(loc='upper left', borderpad= .7,\n",
    "           labelspacing = 1, fontsize='small')\n",
    "\n",
    "print('2.5th percentile:', np.percentile(null_vals, 2.5).round(6))\n",
    "print('Observed_diff:', np.percentile(observed_diff, 2.5).round(6))\n",
    "print('97.5th percentile:', np.percentile(null_vals, 97.5).round(6))\n",
    "\n",
    "plt.xlabel(\"Increment of p-values (Treat. minus Control)\")\n",
    "plt.ylabel('Frequency of Conversion')\n",
    "plt.legend();\n",
    "\n"
   ]
  },
  {
   "cell_type": "markdown",
   "id": "b4d9f05c",
   "metadata": {},
   "source": [
    "In a two-tailed hypothesis test, we would reject the  $H_0$ if and when the observed conversion difference was either lower than the 2.5th percentile or higher than the 97.5th one.\n",
    "\n",
    "Please note we are somewhat closer to the rejection region in comparsion with the one-sided hypothesis test, and that's related to the fact that our p-value has also decreased."
   ]
  },
  {
   "cell_type": "markdown",
   "id": "65d41eff",
   "metadata": {},
   "source": [
    "Moving forward, a decisive point in Hypothesis Testing is to consider is which factors take into consideration when designing a model.\n",
    "There are certainly various factors that we could include beyond just the website change that may influence user conversion, such as existing customer behavior, change aversion, or other metrics. \n",
    "\n",
    "However, some of the drawbacks of introducing more terms to the regression model is having to deal with the well know [Multiple comparisons](https://en.wikipedia.org/wiki/Multiple_comparisons_problem). Additionally, adding numerous independent variables may lead to overfitting and other potential issues like [Multicollinearity](https://online.stat.psu.edu/stat462/node/177/), the appearance of [Confounding factors](https://www.statisticshowto.com/experimental-design/confounding-variable/) or even the existance of [Simpson's paradox](https://en.wikipedia.org/wiki/Simpson%27s_paradox) happening mostly within the existance of aggregared groups of data."
   ]
  },
  {
   "cell_type": "markdown",
   "id": "01dead0f",
   "metadata": {},
   "source": [
    "After importing our last dataset, we are to join it to our exisiting one, and apply some One-Hot Encoding to the categorical data for each country the user is accessing the website from. \n",
    "\n",
    "This is to code the following:"
   ]
  },
  {
   "cell_type": "code",
   "execution_count": 55,
   "id": "37b8e998",
   "metadata": {},
   "outputs": [
    {
     "data": {
      "text/html": [
       "<div>\n",
       "<style scoped>\n",
       "    .dataframe tbody tr th:only-of-type {\n",
       "        vertical-align: middle;\n",
       "    }\n",
       "\n",
       "    .dataframe tbody tr th {\n",
       "        vertical-align: top;\n",
       "    }\n",
       "\n",
       "    .dataframe thead th {\n",
       "        text-align: right;\n",
       "    }\n",
       "</style>\n",
       "<table border=\"1\" class=\"dataframe\">\n",
       "  <thead>\n",
       "    <tr style=\"text-align: right;\">\n",
       "      <th></th>\n",
       "      <th>user_id</th>\n",
       "      <th>country</th>\n",
       "    </tr>\n",
       "  </thead>\n",
       "  <tbody>\n",
       "    <tr>\n",
       "      <th>0</th>\n",
       "      <td>834778</td>\n",
       "      <td>UK</td>\n",
       "    </tr>\n",
       "    <tr>\n",
       "      <th>1</th>\n",
       "      <td>928468</td>\n",
       "      <td>US</td>\n",
       "    </tr>\n",
       "    <tr>\n",
       "      <th>2</th>\n",
       "      <td>822059</td>\n",
       "      <td>UK</td>\n",
       "    </tr>\n",
       "    <tr>\n",
       "      <th>3</th>\n",
       "      <td>711597</td>\n",
       "      <td>UK</td>\n",
       "    </tr>\n",
       "    <tr>\n",
       "      <th>4</th>\n",
       "      <td>710616</td>\n",
       "      <td>UK</td>\n",
       "    </tr>\n",
       "  </tbody>\n",
       "</table>\n",
       "</div>"
      ],
      "text/plain": [
       "   user_id country\n",
       "0   834778      UK\n",
       "1   928468      US\n",
       "2   822059      UK\n",
       "3   711597      UK\n",
       "4   710616      UK"
      ]
     },
     "execution_count": 55,
     "metadata": {},
     "output_type": "execute_result"
    }
   ],
   "source": [
    "df_countries = pd.read_csv('datasets/countries.csv')\n",
    "df_countries.head()"
   ]
  },
  {
   "cell_type": "code",
   "execution_count": 56,
   "id": "64ca2783",
   "metadata": {},
   "outputs": [
    {
     "data": {
      "text/plain": [
       "country\n",
       "US    203619\n",
       "UK     72466\n",
       "CA     14499\n",
       "Name: count, dtype: int64"
      ]
     },
     "execution_count": 56,
     "metadata": {},
     "output_type": "execute_result"
    }
   ],
   "source": [
    "df_countries['country'].value_counts()"
   ]
  },
  {
   "cell_type": "code",
   "execution_count": 57,
   "id": "6ba664f0",
   "metadata": {},
   "outputs": [
    {
     "data": {
      "text/html": [
       "<div>\n",
       "<style scoped>\n",
       "    .dataframe tbody tr th:only-of-type {\n",
       "        vertical-align: middle;\n",
       "    }\n",
       "\n",
       "    .dataframe tbody tr th {\n",
       "        vertical-align: top;\n",
       "    }\n",
       "\n",
       "    .dataframe thead th {\n",
       "        text-align: right;\n",
       "    }\n",
       "</style>\n",
       "<table border=\"1\" class=\"dataframe\">\n",
       "  <thead>\n",
       "    <tr style=\"text-align: right;\">\n",
       "      <th></th>\n",
       "      <th>country</th>\n",
       "      <th>timestamp</th>\n",
       "      <th>group</th>\n",
       "      <th>landing_page</th>\n",
       "      <th>converted</th>\n",
       "      <th>intercept</th>\n",
       "      <th>ab_page</th>\n",
       "    </tr>\n",
       "    <tr>\n",
       "      <th>user_id</th>\n",
       "      <th></th>\n",
       "      <th></th>\n",
       "      <th></th>\n",
       "      <th></th>\n",
       "      <th></th>\n",
       "      <th></th>\n",
       "      <th></th>\n",
       "    </tr>\n",
       "  </thead>\n",
       "  <tbody>\n",
       "    <tr>\n",
       "      <th>834778</th>\n",
       "      <td>UK</td>\n",
       "      <td>2017-01-14 23:08:43.304998</td>\n",
       "      <td>C</td>\n",
       "      <td>Previous</td>\n",
       "      <td>0</td>\n",
       "      <td>1</td>\n",
       "      <td>0</td>\n",
       "    </tr>\n",
       "    <tr>\n",
       "      <th>928468</th>\n",
       "      <td>US</td>\n",
       "      <td>2017-01-23 14:44:16.387854</td>\n",
       "      <td>T</td>\n",
       "      <td>New</td>\n",
       "      <td>0</td>\n",
       "      <td>1</td>\n",
       "      <td>1</td>\n",
       "    </tr>\n",
       "    <tr>\n",
       "      <th>822059</th>\n",
       "      <td>UK</td>\n",
       "      <td>2017-01-16 14:04:14.719771</td>\n",
       "      <td>T</td>\n",
       "      <td>New</td>\n",
       "      <td>1</td>\n",
       "      <td>1</td>\n",
       "      <td>1</td>\n",
       "    </tr>\n",
       "    <tr>\n",
       "      <th>711597</th>\n",
       "      <td>UK</td>\n",
       "      <td>2017-01-22 03:14:24.763511</td>\n",
       "      <td>C</td>\n",
       "      <td>Previous</td>\n",
       "      <td>0</td>\n",
       "      <td>1</td>\n",
       "      <td>0</td>\n",
       "    </tr>\n",
       "    <tr>\n",
       "      <th>710616</th>\n",
       "      <td>UK</td>\n",
       "      <td>2017-01-16 13:14:44.000513</td>\n",
       "      <td>T</td>\n",
       "      <td>New</td>\n",
       "      <td>0</td>\n",
       "      <td>1</td>\n",
       "      <td>1</td>\n",
       "    </tr>\n",
       "  </tbody>\n",
       "</table>\n",
       "</div>"
      ],
      "text/plain": [
       "        country                   timestamp group landing_page  converted  \\\n",
       "user_id                                                                     \n",
       "834778       UK  2017-01-14 23:08:43.304998     C     Previous          0   \n",
       "928468       US  2017-01-23 14:44:16.387854     T          New          0   \n",
       "822059       UK  2017-01-16 14:04:14.719771     T          New          1   \n",
       "711597       UK  2017-01-22 03:14:24.763511     C     Previous          0   \n",
       "710616       UK  2017-01-16 13:14:44.000513     T          New          0   \n",
       "\n",
       "         intercept  ab_page  \n",
       "user_id                      \n",
       "834778           1        0  \n",
       "928468           1        1  \n",
       "822059           1        1  \n",
       "711597           1        0  \n",
       "710616           1        1  "
      ]
     },
     "execution_count": 57,
     "metadata": {},
     "output_type": "execute_result"
    }
   ],
   "source": [
    "df_new = df_countries.set_index('user_id')\\\n",
    "                     .join(df2.set_index('user_id'),\n",
    "                           how ='inner')\n",
    "df_new.head()"
   ]
  },
  {
   "cell_type": "code",
   "execution_count": 58,
   "id": "a38e7bcb",
   "metadata": {},
   "outputs": [
    {
     "data": {
      "text/plain": [
       "country\n",
       "US    203619\n",
       "UK     72466\n",
       "CA     14499\n",
       "Name: count, dtype: int64"
      ]
     },
     "execution_count": 58,
     "metadata": {},
     "output_type": "execute_result"
    }
   ],
   "source": [
    "df_new['country'].value_counts()"
   ]
  },
  {
   "cell_type": "markdown",
   "id": "62036ba2",
   "metadata": {},
   "source": [
    "We notice that there are almost 3 time more US users than English or Canadian, therefore we will make the calculations using these two latter ones.\n",
    "\n",
    "Let us one-hot encode these 3 columns and join them into our dataset:"
   ]
  },
  {
   "cell_type": "code",
   "execution_count": 59,
   "id": "d5ddb489",
   "metadata": {},
   "outputs": [
    {
     "data": {
      "text/html": [
       "<div>\n",
       "<style scoped>\n",
       "    .dataframe tbody tr th:only-of-type {\n",
       "        vertical-align: middle;\n",
       "    }\n",
       "\n",
       "    .dataframe tbody tr th {\n",
       "        vertical-align: top;\n",
       "    }\n",
       "\n",
       "    .dataframe thead th {\n",
       "        text-align: right;\n",
       "    }\n",
       "</style>\n",
       "<table border=\"1\" class=\"dataframe\">\n",
       "  <thead>\n",
       "    <tr style=\"text-align: right;\">\n",
       "      <th></th>\n",
       "      <th>CA</th>\n",
       "      <th>UK</th>\n",
       "      <th>US</th>\n",
       "      <th>country</th>\n",
       "      <th>timestamp</th>\n",
       "      <th>group</th>\n",
       "      <th>landing_page</th>\n",
       "      <th>converted</th>\n",
       "      <th>intercept</th>\n",
       "      <th>ab_page</th>\n",
       "    </tr>\n",
       "    <tr>\n",
       "      <th>user_id</th>\n",
       "      <th></th>\n",
       "      <th></th>\n",
       "      <th></th>\n",
       "      <th></th>\n",
       "      <th></th>\n",
       "      <th></th>\n",
       "      <th></th>\n",
       "      <th></th>\n",
       "      <th></th>\n",
       "      <th></th>\n",
       "    </tr>\n",
       "  </thead>\n",
       "  <tbody>\n",
       "    <tr>\n",
       "      <th>834778</th>\n",
       "      <td>0</td>\n",
       "      <td>1</td>\n",
       "      <td>0</td>\n",
       "      <td>UK</td>\n",
       "      <td>2017-01-14 23:08:43.304998</td>\n",
       "      <td>C</td>\n",
       "      <td>Previous</td>\n",
       "      <td>0</td>\n",
       "      <td>1</td>\n",
       "      <td>0</td>\n",
       "    </tr>\n",
       "    <tr>\n",
       "      <th>928468</th>\n",
       "      <td>0</td>\n",
       "      <td>0</td>\n",
       "      <td>1</td>\n",
       "      <td>US</td>\n",
       "      <td>2017-01-23 14:44:16.387854</td>\n",
       "      <td>T</td>\n",
       "      <td>New</td>\n",
       "      <td>0</td>\n",
       "      <td>1</td>\n",
       "      <td>1</td>\n",
       "    </tr>\n",
       "    <tr>\n",
       "      <th>822059</th>\n",
       "      <td>0</td>\n",
       "      <td>1</td>\n",
       "      <td>0</td>\n",
       "      <td>UK</td>\n",
       "      <td>2017-01-16 14:04:14.719771</td>\n",
       "      <td>T</td>\n",
       "      <td>New</td>\n",
       "      <td>1</td>\n",
       "      <td>1</td>\n",
       "      <td>1</td>\n",
       "    </tr>\n",
       "    <tr>\n",
       "      <th>711597</th>\n",
       "      <td>0</td>\n",
       "      <td>1</td>\n",
       "      <td>0</td>\n",
       "      <td>UK</td>\n",
       "      <td>2017-01-22 03:14:24.763511</td>\n",
       "      <td>C</td>\n",
       "      <td>Previous</td>\n",
       "      <td>0</td>\n",
       "      <td>1</td>\n",
       "      <td>0</td>\n",
       "    </tr>\n",
       "    <tr>\n",
       "      <th>710616</th>\n",
       "      <td>0</td>\n",
       "      <td>1</td>\n",
       "      <td>0</td>\n",
       "      <td>UK</td>\n",
       "      <td>2017-01-16 13:14:44.000513</td>\n",
       "      <td>T</td>\n",
       "      <td>New</td>\n",
       "      <td>0</td>\n",
       "      <td>1</td>\n",
       "      <td>1</td>\n",
       "    </tr>\n",
       "  </tbody>\n",
       "</table>\n",
       "</div>"
      ],
      "text/plain": [
       "         CA  UK  US country                   timestamp group landing_page  \\\n",
       "user_id                                                                      \n",
       "834778    0   1   0      UK  2017-01-14 23:08:43.304998     C     Previous   \n",
       "928468    0   0   1      US  2017-01-23 14:44:16.387854     T          New   \n",
       "822059    0   1   0      UK  2017-01-16 14:04:14.719771     T          New   \n",
       "711597    0   1   0      UK  2017-01-22 03:14:24.763511     C     Previous   \n",
       "710616    0   1   0      UK  2017-01-16 13:14:44.000513     T          New   \n",
       "\n",
       "         converted  intercept  ab_page  \n",
       "user_id                                 \n",
       "834778           0          1        0  \n",
       "928468           0          1        1  \n",
       "822059           1          1        1  \n",
       "711597           0          1        0  \n",
       "710616           0          1        1  "
      ]
     },
     "execution_count": 59,
     "metadata": {},
     "output_type": "execute_result"
    }
   ],
   "source": [
    "# perform one-hot encoding on 'country' column\n",
    "dummy_countries = pd.get_dummies(df_new['country'],\n",
    "                                 dtype = int)\n",
    "\n",
    "# Define the final dataset 'df_reg' we're going to work with \n",
    "# by joining these one-hot encoded dummy vars\n",
    "df_reg = dummy_countries.join(df_new,\n",
    "                         how = 'inner')\n",
    "df_reg.head()"
   ]
  },
  {
   "cell_type": "markdown",
   "id": "3e4fbd32",
   "metadata": {},
   "source": [
    "Next, we will consider the converted column as the dependent variable, and 'UK', 'CA' and 'intercept' the external or independent ones:"
   ]
  },
  {
   "cell_type": "code",
   "execution_count": 60,
   "id": "63f1da94",
   "metadata": {},
   "outputs": [
    {
     "name": "stdout",
     "output_type": "stream",
     "text": [
      "Optimization terminated successfully.\n",
      "         Current function value: 0.366116\n",
      "         Iterations 6\n"
     ]
    },
    {
     "data": {
      "text/html": [
       "<table class=\"simpletable\">\n",
       "<caption>Logit Regression Results</caption>\n",
       "<tr>\n",
       "  <th>Dep. Variable:</th>       <td>converted</td>    <th>  No. Observations:  </th>   <td>290584</td>   \n",
       "</tr>\n",
       "<tr>\n",
       "  <th>Model:</th>                 <td>Logit</td>      <th>  Df Residuals:      </th>   <td>290581</td>   \n",
       "</tr>\n",
       "<tr>\n",
       "  <th>Method:</th>                 <td>MLE</td>       <th>  Df Model:          </th>   <td>     2</td>   \n",
       "</tr>\n",
       "<tr>\n",
       "  <th>Date:</th>            <td>Sat, 23 Dec 2023</td> <th>  Pseudo R-squ.:     </th>  <td>1.521e-05</td> \n",
       "</tr>\n",
       "<tr>\n",
       "  <th>Time:</th>                <td>11:42:29</td>     <th>  Log-Likelihood:    </th> <td>-1.0639e+05</td>\n",
       "</tr>\n",
       "<tr>\n",
       "  <th>converged:</th>             <td>True</td>       <th>  LL-Null:           </th> <td>-1.0639e+05</td>\n",
       "</tr>\n",
       "<tr>\n",
       "  <th>Covariance Type:</th>     <td>nonrobust</td>    <th>  LLR p-value:       </th>   <td>0.1984</td>   \n",
       "</tr>\n",
       "</table>\n",
       "<table class=\"simpletable\">\n",
       "<tr>\n",
       "      <td></td>         <th>coef</th>     <th>std err</th>      <th>z</th>      <th>P>|z|</th>  <th>[0.025</th>    <th>0.975]</th>  \n",
       "</tr>\n",
       "<tr>\n",
       "  <th>intercept</th> <td>   -1.9967</td> <td>    0.007</td> <td> -292.314</td> <td> 0.000</td> <td>   -2.010</td> <td>   -1.983</td>\n",
       "</tr>\n",
       "<tr>\n",
       "  <th>UK</th>        <td>    0.0099</td> <td>    0.013</td> <td>    0.746</td> <td> 0.456</td> <td>   -0.016</td> <td>    0.036</td>\n",
       "</tr>\n",
       "<tr>\n",
       "  <th>CA</th>        <td>   -0.0408</td> <td>    0.027</td> <td>   -1.518</td> <td> 0.129</td> <td>   -0.093</td> <td>    0.012</td>\n",
       "</tr>\n",
       "</table>"
      ],
      "text/latex": [
       "\\begin{center}\n",
       "\\begin{tabular}{lclc}\n",
       "\\toprule\n",
       "\\textbf{Dep. Variable:}   &    converted     & \\textbf{  No. Observations:  } &    290584    \\\\\n",
       "\\textbf{Model:}           &      Logit       & \\textbf{  Df Residuals:      } &    290581    \\\\\n",
       "\\textbf{Method:}          &       MLE        & \\textbf{  Df Model:          } &         2    \\\\\n",
       "\\textbf{Date:}            & Sat, 23 Dec 2023 & \\textbf{  Pseudo R-squ.:     } &  1.521e-05   \\\\\n",
       "\\textbf{Time:}            &     11:42:29     & \\textbf{  Log-Likelihood:    } & -1.0639e+05  \\\\\n",
       "\\textbf{converged:}       &       True       & \\textbf{  LL-Null:           } & -1.0639e+05  \\\\\n",
       "\\textbf{Covariance Type:} &    nonrobust     & \\textbf{  LLR p-value:       } &    0.1984    \\\\\n",
       "\\bottomrule\n",
       "\\end{tabular}\n",
       "\\begin{tabular}{lcccccc}\n",
       "                   & \\textbf{coef} & \\textbf{std err} & \\textbf{z} & \\textbf{P$> |$z$|$} & \\textbf{[0.025} & \\textbf{0.975]}  \\\\\n",
       "\\midrule\n",
       "\\textbf{intercept} &      -1.9967  &        0.007     &  -292.314  &         0.000        &       -2.010    &       -1.983     \\\\\n",
       "\\textbf{UK}        &       0.0099  &        0.013     &     0.746  &         0.456        &       -0.016    &        0.036     \\\\\n",
       "\\textbf{CA}        &      -0.0408  &        0.027     &    -1.518  &         0.129        &       -0.093    &        0.012     \\\\\n",
       "\\bottomrule\n",
       "\\end{tabular}\n",
       "%\\caption{Logit Regression Results}\n",
       "\\end{center}"
      ],
      "text/plain": [
       "<class 'statsmodels.iolib.summary.Summary'>\n",
       "\"\"\"\n",
       "                           Logit Regression Results                           \n",
       "==============================================================================\n",
       "Dep. Variable:              converted   No. Observations:               290584\n",
       "Model:                          Logit   Df Residuals:                   290581\n",
       "Method:                           MLE   Df Model:                            2\n",
       "Date:                Sat, 23 Dec 2023   Pseudo R-squ.:               1.521e-05\n",
       "Time:                        11:42:29   Log-Likelihood:            -1.0639e+05\n",
       "converged:                       True   LL-Null:                   -1.0639e+05\n",
       "Covariance Type:            nonrobust   LLR p-value:                    0.1984\n",
       "==============================================================================\n",
       "                 coef    std err          z      P>|z|      [0.025      0.975]\n",
       "------------------------------------------------------------------------------\n",
       "intercept     -1.9967      0.007   -292.314      0.000      -2.010      -1.983\n",
       "UK             0.0099      0.013      0.746      0.456      -0.016       0.036\n",
       "CA            -0.0408      0.027     -1.518      0.129      -0.093       0.012\n",
       "==============================================================================\n",
       "\"\"\""
      ]
     },
     "execution_count": 60,
     "metadata": {},
     "output_type": "execute_result"
    }
   ],
   "source": [
    "logit_m1 = sm.Logit(df_reg['converted'], # dependble var\n",
    "                    df_reg[\n",
    "                          ['intercept', 'UK', 'CA'] # indepenent ones\n",
    "                          ]\n",
    "                    )\n",
    "results1 = logit_m1.fit()\n",
    "results1.summary()"
   ]
  },
  {
   "cell_type": "code",
   "execution_count": 61,
   "id": "76cfe6df",
   "metadata": {},
   "outputs": [
    {
     "data": {
      "text/plain": [
       "intercept    0.1369\n",
       "ab_page      0.9851\n",
       "dtype: float64"
      ]
     },
     "execution_count": 61,
     "metadata": {},
     "output_type": "execute_result"
    }
   ],
   "source": [
    "np.exp(results.params).round(4)"
   ]
  },
  {
   "cell_type": "code",
   "execution_count": 62,
   "id": "1f38bc8c",
   "metadata": {},
   "outputs": [
    {
     "name": "stdout",
     "output_type": "stream",
     "text": [
      "Optimization terminated successfully.\n",
      "         Current function value: 0.366113\n",
      "         Iterations 6\n"
     ]
    },
    {
     "data": {
      "text/html": [
       "<table class=\"simpletable\">\n",
       "<caption>Logit Regression Results</caption>\n",
       "<tr>\n",
       "  <th>Dep. Variable:</th>       <td>converted</td>    <th>  No. Observations:  </th>   <td>290584</td>   \n",
       "</tr>\n",
       "<tr>\n",
       "  <th>Model:</th>                 <td>Logit</td>      <th>  Df Residuals:      </th>   <td>290580</td>   \n",
       "</tr>\n",
       "<tr>\n",
       "  <th>Method:</th>                 <td>MLE</td>       <th>  Df Model:          </th>   <td>     3</td>   \n",
       "</tr>\n",
       "<tr>\n",
       "  <th>Date:</th>            <td>Sat, 23 Dec 2023</td> <th>  Pseudo R-squ.:     </th>  <td>2.323e-05</td> \n",
       "</tr>\n",
       "<tr>\n",
       "  <th>Time:</th>                <td>11:42:31</td>     <th>  Log-Likelihood:    </th> <td>-1.0639e+05</td>\n",
       "</tr>\n",
       "<tr>\n",
       "  <th>converged:</th>             <td>True</td>       <th>  LL-Null:           </th> <td>-1.0639e+05</td>\n",
       "</tr>\n",
       "<tr>\n",
       "  <th>Covariance Type:</th>     <td>nonrobust</td>    <th>  LLR p-value:       </th>   <td>0.1760</td>   \n",
       "</tr>\n",
       "</table>\n",
       "<table class=\"simpletable\">\n",
       "<tr>\n",
       "      <td></td>         <th>coef</th>     <th>std err</th>      <th>z</th>      <th>P>|z|</th>  <th>[0.025</th>    <th>0.975]</th>  \n",
       "</tr>\n",
       "<tr>\n",
       "  <th>intercept</th> <td>   -1.9893</td> <td>    0.009</td> <td> -223.763</td> <td> 0.000</td> <td>   -2.007</td> <td>   -1.972</td>\n",
       "</tr>\n",
       "<tr>\n",
       "  <th>ab_page</th>   <td>   -0.0149</td> <td>    0.011</td> <td>   -1.307</td> <td> 0.191</td> <td>   -0.037</td> <td>    0.007</td>\n",
       "</tr>\n",
       "<tr>\n",
       "  <th>UK</th>        <td>    0.0099</td> <td>    0.013</td> <td>    0.743</td> <td> 0.457</td> <td>   -0.016</td> <td>    0.036</td>\n",
       "</tr>\n",
       "<tr>\n",
       "  <th>CA</th>        <td>   -0.0408</td> <td>    0.027</td> <td>   -1.516</td> <td> 0.130</td> <td>   -0.093</td> <td>    0.012</td>\n",
       "</tr>\n",
       "</table>"
      ],
      "text/latex": [
       "\\begin{center}\n",
       "\\begin{tabular}{lclc}\n",
       "\\toprule\n",
       "\\textbf{Dep. Variable:}   &    converted     & \\textbf{  No. Observations:  } &    290584    \\\\\n",
       "\\textbf{Model:}           &      Logit       & \\textbf{  Df Residuals:      } &    290580    \\\\\n",
       "\\textbf{Method:}          &       MLE        & \\textbf{  Df Model:          } &         3    \\\\\n",
       "\\textbf{Date:}            & Sat, 23 Dec 2023 & \\textbf{  Pseudo R-squ.:     } &  2.323e-05   \\\\\n",
       "\\textbf{Time:}            &     11:42:31     & \\textbf{  Log-Likelihood:    } & -1.0639e+05  \\\\\n",
       "\\textbf{converged:}       &       True       & \\textbf{  LL-Null:           } & -1.0639e+05  \\\\\n",
       "\\textbf{Covariance Type:} &    nonrobust     & \\textbf{  LLR p-value:       } &    0.1760    \\\\\n",
       "\\bottomrule\n",
       "\\end{tabular}\n",
       "\\begin{tabular}{lcccccc}\n",
       "                   & \\textbf{coef} & \\textbf{std err} & \\textbf{z} & \\textbf{P$> |$z$|$} & \\textbf{[0.025} & \\textbf{0.975]}  \\\\\n",
       "\\midrule\n",
       "\\textbf{intercept} &      -1.9893  &        0.009     &  -223.763  &         0.000        &       -2.007    &       -1.972     \\\\\n",
       "\\textbf{ab\\_page}  &      -0.0149  &        0.011     &    -1.307  &         0.191        &       -0.037    &        0.007     \\\\\n",
       "\\textbf{UK}        &       0.0099  &        0.013     &     0.743  &         0.457        &       -0.016    &        0.036     \\\\\n",
       "\\textbf{CA}        &      -0.0408  &        0.027     &    -1.516  &         0.130        &       -0.093    &        0.012     \\\\\n",
       "\\bottomrule\n",
       "\\end{tabular}\n",
       "%\\caption{Logit Regression Results}\n",
       "\\end{center}"
      ],
      "text/plain": [
       "<class 'statsmodels.iolib.summary.Summary'>\n",
       "\"\"\"\n",
       "                           Logit Regression Results                           \n",
       "==============================================================================\n",
       "Dep. Variable:              converted   No. Observations:               290584\n",
       "Model:                          Logit   Df Residuals:                   290580\n",
       "Method:                           MLE   Df Model:                            3\n",
       "Date:                Sat, 23 Dec 2023   Pseudo R-squ.:               2.323e-05\n",
       "Time:                        11:42:31   Log-Likelihood:            -1.0639e+05\n",
       "converged:                       True   LL-Null:                   -1.0639e+05\n",
       "Covariance Type:            nonrobust   LLR p-value:                    0.1760\n",
       "==============================================================================\n",
       "                 coef    std err          z      P>|z|      [0.025      0.975]\n",
       "------------------------------------------------------------------------------\n",
       "intercept     -1.9893      0.009   -223.763      0.000      -2.007      -1.972\n",
       "ab_page       -0.0149      0.011     -1.307      0.191      -0.037       0.007\n",
       "UK             0.0099      0.013      0.743      0.457      -0.016       0.036\n",
       "CA            -0.0408      0.027     -1.516      0.130      -0.093       0.012\n",
       "==============================================================================\n",
       "\"\"\""
      ]
     },
     "execution_count": 62,
     "metadata": {},
     "output_type": "execute_result"
    }
   ],
   "source": [
    "logit_m2 = sm.Logit(df_reg['converted'],\n",
    "                    df_reg[\n",
    "                            ['intercept','ab_page',\n",
    "                            'UK','CA']\n",
    "                          ]\n",
    "                    )\n",
    "results2 = logit_m2.fit()\n",
    "results2.summary()"
   ]
  },
  {
   "cell_type": "code",
   "execution_count": 63,
   "id": "f8cea143",
   "metadata": {},
   "outputs": [
    {
     "data": {
      "text/plain": [
       "intercept    0.1368\n",
       "ab_page      0.9852\n",
       "UK           1.0099\n",
       "CA           0.9601\n",
       "dtype: float64"
      ]
     },
     "execution_count": 63,
     "metadata": {},
     "output_type": "execute_result"
    }
   ],
   "source": [
    "np.exp(results2.params).round(4)"
   ]
  },
  {
   "cell_type": "code",
   "execution_count": 64,
   "id": "d6ea0f0e",
   "metadata": {},
   "outputs": [],
   "source": [
    "# conversions from the new website version of UK and CA , respectively\n",
    "\n",
    "df_reg['UK_new'] = df_reg['ab_page'] * df_reg['UK'] \n",
    "df_reg['CA_new'] = df_reg['ab_page'] * df_reg['CA']"
   ]
  },
  {
   "cell_type": "code",
   "execution_count": 65,
   "id": "f3dcf81d",
   "metadata": {},
   "outputs": [
    {
     "data": {
      "text/html": [
       "<div>\n",
       "<style scoped>\n",
       "    .dataframe tbody tr th:only-of-type {\n",
       "        vertical-align: middle;\n",
       "    }\n",
       "\n",
       "    .dataframe tbody tr th {\n",
       "        vertical-align: top;\n",
       "    }\n",
       "\n",
       "    .dataframe thead th {\n",
       "        text-align: right;\n",
       "    }\n",
       "</style>\n",
       "<table border=\"1\" class=\"dataframe\">\n",
       "  <thead>\n",
       "    <tr style=\"text-align: right;\">\n",
       "      <th></th>\n",
       "      <th>CA</th>\n",
       "      <th>UK</th>\n",
       "      <th>US</th>\n",
       "      <th>country</th>\n",
       "      <th>timestamp</th>\n",
       "      <th>group</th>\n",
       "      <th>landing_page</th>\n",
       "      <th>converted</th>\n",
       "      <th>intercept</th>\n",
       "      <th>ab_page</th>\n",
       "      <th>UK_new</th>\n",
       "      <th>CA_new</th>\n",
       "    </tr>\n",
       "    <tr>\n",
       "      <th>user_id</th>\n",
       "      <th></th>\n",
       "      <th></th>\n",
       "      <th></th>\n",
       "      <th></th>\n",
       "      <th></th>\n",
       "      <th></th>\n",
       "      <th></th>\n",
       "      <th></th>\n",
       "      <th></th>\n",
       "      <th></th>\n",
       "      <th></th>\n",
       "      <th></th>\n",
       "    </tr>\n",
       "  </thead>\n",
       "  <tbody>\n",
       "    <tr>\n",
       "      <th>834778</th>\n",
       "      <td>0</td>\n",
       "      <td>1</td>\n",
       "      <td>0</td>\n",
       "      <td>UK</td>\n",
       "      <td>2017-01-14 23:08:43.304998</td>\n",
       "      <td>C</td>\n",
       "      <td>Previous</td>\n",
       "      <td>0</td>\n",
       "      <td>1</td>\n",
       "      <td>0</td>\n",
       "      <td>0</td>\n",
       "      <td>0</td>\n",
       "    </tr>\n",
       "    <tr>\n",
       "      <th>928468</th>\n",
       "      <td>0</td>\n",
       "      <td>0</td>\n",
       "      <td>1</td>\n",
       "      <td>US</td>\n",
       "      <td>2017-01-23 14:44:16.387854</td>\n",
       "      <td>T</td>\n",
       "      <td>New</td>\n",
       "      <td>0</td>\n",
       "      <td>1</td>\n",
       "      <td>1</td>\n",
       "      <td>0</td>\n",
       "      <td>0</td>\n",
       "    </tr>\n",
       "    <tr>\n",
       "      <th>822059</th>\n",
       "      <td>0</td>\n",
       "      <td>1</td>\n",
       "      <td>0</td>\n",
       "      <td>UK</td>\n",
       "      <td>2017-01-16 14:04:14.719771</td>\n",
       "      <td>T</td>\n",
       "      <td>New</td>\n",
       "      <td>1</td>\n",
       "      <td>1</td>\n",
       "      <td>1</td>\n",
       "      <td>1</td>\n",
       "      <td>0</td>\n",
       "    </tr>\n",
       "    <tr>\n",
       "      <th>711597</th>\n",
       "      <td>0</td>\n",
       "      <td>1</td>\n",
       "      <td>0</td>\n",
       "      <td>UK</td>\n",
       "      <td>2017-01-22 03:14:24.763511</td>\n",
       "      <td>C</td>\n",
       "      <td>Previous</td>\n",
       "      <td>0</td>\n",
       "      <td>1</td>\n",
       "      <td>0</td>\n",
       "      <td>0</td>\n",
       "      <td>0</td>\n",
       "    </tr>\n",
       "    <tr>\n",
       "      <th>710616</th>\n",
       "      <td>0</td>\n",
       "      <td>1</td>\n",
       "      <td>0</td>\n",
       "      <td>UK</td>\n",
       "      <td>2017-01-16 13:14:44.000513</td>\n",
       "      <td>T</td>\n",
       "      <td>New</td>\n",
       "      <td>0</td>\n",
       "      <td>1</td>\n",
       "      <td>1</td>\n",
       "      <td>1</td>\n",
       "      <td>0</td>\n",
       "    </tr>\n",
       "  </tbody>\n",
       "</table>\n",
       "</div>"
      ],
      "text/plain": [
       "         CA  UK  US country                   timestamp group landing_page  \\\n",
       "user_id                                                                      \n",
       "834778    0   1   0      UK  2017-01-14 23:08:43.304998     C     Previous   \n",
       "928468    0   0   1      US  2017-01-23 14:44:16.387854     T          New   \n",
       "822059    0   1   0      UK  2017-01-16 14:04:14.719771     T          New   \n",
       "711597    0   1   0      UK  2017-01-22 03:14:24.763511     C     Previous   \n",
       "710616    0   1   0      UK  2017-01-16 13:14:44.000513     T          New   \n",
       "\n",
       "         converted  intercept  ab_page  UK_new  CA_new  \n",
       "user_id                                                 \n",
       "834778           0          1        0       0       0  \n",
       "928468           0          1        1       0       0  \n",
       "822059           1          1        1       1       0  \n",
       "711597           0          1        0       0       0  \n",
       "710616           0          1        1       1       0  "
      ]
     },
     "execution_count": 65,
     "metadata": {},
     "output_type": "execute_result"
    }
   ],
   "source": [
    "df_reg.head()"
   ]
  },
  {
   "cell_type": "code",
   "execution_count": 66,
   "id": "c672ac60",
   "metadata": {},
   "outputs": [
    {
     "name": "stdout",
     "output_type": "stream",
     "text": [
      "Optimization terminated successfully.\n",
      "         Current function value: 0.366113\n",
      "         Iterations 6\n"
     ]
    },
    {
     "data": {
      "text/html": [
       "<table class=\"simpletable\">\n",
       "<caption>Logit Regression Results</caption>\n",
       "<tr>\n",
       "  <th>Dep. Variable:</th>       <td>converted</td>    <th>  No. Observations:  </th>   <td>290584</td>   \n",
       "</tr>\n",
       "<tr>\n",
       "  <th>Model:</th>                 <td>Logit</td>      <th>  Df Residuals:      </th>   <td>290579</td>   \n",
       "</tr>\n",
       "<tr>\n",
       "  <th>Method:</th>                 <td>MLE</td>       <th>  Df Model:          </th>   <td>     4</td>   \n",
       "</tr>\n",
       "<tr>\n",
       "  <th>Date:</th>            <td>Sat, 23 Dec 2023</td> <th>  Pseudo R-squ.:     </th>  <td>2.417e-05</td> \n",
       "</tr>\n",
       "<tr>\n",
       "  <th>Time:</th>                <td>11:42:33</td>     <th>  Log-Likelihood:    </th> <td>-1.0639e+05</td>\n",
       "</tr>\n",
       "<tr>\n",
       "  <th>converged:</th>             <td>True</td>       <th>  LL-Null:           </th> <td>-1.0639e+05</td>\n",
       "</tr>\n",
       "<tr>\n",
       "  <th>Covariance Type:</th>     <td>nonrobust</td>    <th>  LLR p-value:       </th>   <td>0.2729</td>   \n",
       "</tr>\n",
       "</table>\n",
       "<table class=\"simpletable\">\n",
       "<tr>\n",
       "      <td></td>         <th>coef</th>     <th>std err</th>      <th>z</th>      <th>P>|z|</th>  <th>[0.025</th>    <th>0.975]</th>  \n",
       "</tr>\n",
       "<tr>\n",
       "  <th>intercept</th> <td>   -1.9967</td> <td>    0.007</td> <td> -292.314</td> <td> 0.000</td> <td>   -2.010</td> <td>   -1.983</td>\n",
       "</tr>\n",
       "<tr>\n",
       "  <th>UK</th>        <td>    0.0045</td> <td>    0.018</td> <td>    0.257</td> <td> 0.797</td> <td>   -0.030</td> <td>    0.039</td>\n",
       "</tr>\n",
       "<tr>\n",
       "  <th>CA</th>        <td>   -0.0073</td> <td>    0.037</td> <td>   -0.196</td> <td> 0.844</td> <td>   -0.080</td> <td>    0.065</td>\n",
       "</tr>\n",
       "<tr>\n",
       "  <th>UK_new</th>    <td>    0.0108</td> <td>    0.023</td> <td>    0.475</td> <td> 0.635</td> <td>   -0.034</td> <td>    0.056</td>\n",
       "</tr>\n",
       "<tr>\n",
       "  <th>CA_new</th>    <td>   -0.0674</td> <td>    0.052</td> <td>   -1.297</td> <td> 0.195</td> <td>   -0.169</td> <td>    0.034</td>\n",
       "</tr>\n",
       "</table>"
      ],
      "text/latex": [
       "\\begin{center}\n",
       "\\begin{tabular}{lclc}\n",
       "\\toprule\n",
       "\\textbf{Dep. Variable:}   &    converted     & \\textbf{  No. Observations:  } &    290584    \\\\\n",
       "\\textbf{Model:}           &      Logit       & \\textbf{  Df Residuals:      } &    290579    \\\\\n",
       "\\textbf{Method:}          &       MLE        & \\textbf{  Df Model:          } &         4    \\\\\n",
       "\\textbf{Date:}            & Sat, 23 Dec 2023 & \\textbf{  Pseudo R-squ.:     } &  2.417e-05   \\\\\n",
       "\\textbf{Time:}            &     11:42:33     & \\textbf{  Log-Likelihood:    } & -1.0639e+05  \\\\\n",
       "\\textbf{converged:}       &       True       & \\textbf{  LL-Null:           } & -1.0639e+05  \\\\\n",
       "\\textbf{Covariance Type:} &    nonrobust     & \\textbf{  LLR p-value:       } &    0.2729    \\\\\n",
       "\\bottomrule\n",
       "\\end{tabular}\n",
       "\\begin{tabular}{lcccccc}\n",
       "                   & \\textbf{coef} & \\textbf{std err} & \\textbf{z} & \\textbf{P$> |$z$|$} & \\textbf{[0.025} & \\textbf{0.975]}  \\\\\n",
       "\\midrule\n",
       "\\textbf{intercept} &      -1.9967  &        0.007     &  -292.314  &         0.000        &       -2.010    &       -1.983     \\\\\n",
       "\\textbf{UK}        &       0.0045  &        0.018     &     0.257  &         0.797        &       -0.030    &        0.039     \\\\\n",
       "\\textbf{CA}        &      -0.0073  &        0.037     &    -0.196  &         0.844        &       -0.080    &        0.065     \\\\\n",
       "\\textbf{UK\\_new}   &       0.0108  &        0.023     &     0.475  &         0.635        &       -0.034    &        0.056     \\\\\n",
       "\\textbf{CA\\_new}   &      -0.0674  &        0.052     &    -1.297  &         0.195        &       -0.169    &        0.034     \\\\\n",
       "\\bottomrule\n",
       "\\end{tabular}\n",
       "%\\caption{Logit Regression Results}\n",
       "\\end{center}"
      ],
      "text/plain": [
       "<class 'statsmodels.iolib.summary.Summary'>\n",
       "\"\"\"\n",
       "                           Logit Regression Results                           \n",
       "==============================================================================\n",
       "Dep. Variable:              converted   No. Observations:               290584\n",
       "Model:                          Logit   Df Residuals:                   290579\n",
       "Method:                           MLE   Df Model:                            4\n",
       "Date:                Sat, 23 Dec 2023   Pseudo R-squ.:               2.417e-05\n",
       "Time:                        11:42:33   Log-Likelihood:            -1.0639e+05\n",
       "converged:                       True   LL-Null:                   -1.0639e+05\n",
       "Covariance Type:            nonrobust   LLR p-value:                    0.2729\n",
       "==============================================================================\n",
       "                 coef    std err          z      P>|z|      [0.025      0.975]\n",
       "------------------------------------------------------------------------------\n",
       "intercept     -1.9967      0.007   -292.314      0.000      -2.010      -1.983\n",
       "UK             0.0045      0.018      0.257      0.797      -0.030       0.039\n",
       "CA            -0.0073      0.037     -0.196      0.844      -0.080       0.065\n",
       "UK_new         0.0108      0.023      0.475      0.635      -0.034       0.056\n",
       "CA_new        -0.0674      0.052     -1.297      0.195      -0.169       0.034\n",
       "==============================================================================\n",
       "\"\"\""
      ]
     },
     "execution_count": 66,
     "metadata": {},
     "output_type": "execute_result"
    }
   ],
   "source": [
    "logit_m3 = sm.Logit(df_reg['converted'],\n",
    "                    df_reg[['intercept',\n",
    "                            'UK', 'CA',\n",
    "                            'UK_new', 'CA_new']])\n",
    "results3 = logit_m3.fit()\n",
    "results3.summary()"
   ]
  },
  {
   "cell_type": "code",
   "execution_count": 67,
   "id": "d264409a",
   "metadata": {},
   "outputs": [
    {
     "data": {
      "text/plain": [
       "intercept    0.1358\n",
       "UK           1.0045\n",
       "CA           0.9927\n",
       "UK_new       1.0109\n",
       "CA_new       0.9348\n",
       "dtype: float64"
      ]
     },
     "execution_count": 67,
     "metadata": {},
     "output_type": "execute_result"
    }
   ],
   "source": [
    "np.exp(results3.params).round(4)"
   ]
  },
  {
   "cell_type": "code",
   "execution_count": 68,
   "id": "cd681c8f",
   "metadata": {},
   "outputs": [
    {
     "name": "stdout",
     "output_type": "stream",
     "text": [
      "Optimization terminated successfully.\n",
      "         Current function value: 0.366109\n",
      "         Iterations 6\n"
     ]
    },
    {
     "data": {
      "text/html": [
       "<table class=\"simpletable\">\n",
       "<caption>Logit Regression Results</caption>\n",
       "<tr>\n",
       "  <th>Dep. Variable:</th>       <td>converted</td>    <th>  No. Observations:  </th>   <td>290584</td>   \n",
       "</tr>\n",
       "<tr>\n",
       "  <th>Model:</th>                 <td>Logit</td>      <th>  Df Residuals:      </th>   <td>290578</td>   \n",
       "</tr>\n",
       "<tr>\n",
       "  <th>Method:</th>                 <td>MLE</td>       <th>  Df Model:          </th>   <td>     5</td>   \n",
       "</tr>\n",
       "<tr>\n",
       "  <th>Date:</th>            <td>Sat, 23 Dec 2023</td> <th>  Pseudo R-squ.:     </th>  <td>3.482e-05</td> \n",
       "</tr>\n",
       "<tr>\n",
       "  <th>Time:</th>                <td>11:42:34</td>     <th>  Log-Likelihood:    </th> <td>-1.0639e+05</td>\n",
       "</tr>\n",
       "<tr>\n",
       "  <th>converged:</th>             <td>True</td>       <th>  LL-Null:           </th> <td>-1.0639e+05</td>\n",
       "</tr>\n",
       "<tr>\n",
       "  <th>Covariance Type:</th>     <td>nonrobust</td>    <th>  LLR p-value:       </th>   <td>0.1920</td>   \n",
       "</tr>\n",
       "</table>\n",
       "<table class=\"simpletable\">\n",
       "<tr>\n",
       "      <td></td>         <th>coef</th>     <th>std err</th>      <th>z</th>      <th>P>|z|</th>  <th>[0.025</th>    <th>0.975]</th>  \n",
       "</tr>\n",
       "<tr>\n",
       "  <th>intercept</th> <td>   -1.9865</td> <td>    0.010</td> <td> -206.344</td> <td> 0.000</td> <td>   -2.005</td> <td>   -1.968</td>\n",
       "</tr>\n",
       "<tr>\n",
       "  <th>ab_page</th>   <td>   -0.0206</td> <td>    0.014</td> <td>   -1.505</td> <td> 0.132</td> <td>   -0.047</td> <td>    0.006</td>\n",
       "</tr>\n",
       "<tr>\n",
       "  <th>UK</th>        <td>   -0.0057</td> <td>    0.019</td> <td>   -0.306</td> <td> 0.760</td> <td>   -0.043</td> <td>    0.031</td>\n",
       "</tr>\n",
       "<tr>\n",
       "  <th>CA</th>        <td>   -0.0175</td> <td>    0.038</td> <td>   -0.465</td> <td> 0.642</td> <td>   -0.091</td> <td>    0.056</td>\n",
       "</tr>\n",
       "<tr>\n",
       "  <th>UK_new</th>    <td>    0.0314</td> <td>    0.027</td> <td>    1.181</td> <td> 0.238</td> <td>   -0.021</td> <td>    0.084</td>\n",
       "</tr>\n",
       "<tr>\n",
       "  <th>CA_new</th>    <td>   -0.0469</td> <td>    0.054</td> <td>   -0.872</td> <td> 0.383</td> <td>   -0.152</td> <td>    0.059</td>\n",
       "</tr>\n",
       "</table>"
      ],
      "text/latex": [
       "\\begin{center}\n",
       "\\begin{tabular}{lclc}\n",
       "\\toprule\n",
       "\\textbf{Dep. Variable:}   &    converted     & \\textbf{  No. Observations:  } &    290584    \\\\\n",
       "\\textbf{Model:}           &      Logit       & \\textbf{  Df Residuals:      } &    290578    \\\\\n",
       "\\textbf{Method:}          &       MLE        & \\textbf{  Df Model:          } &         5    \\\\\n",
       "\\textbf{Date:}            & Sat, 23 Dec 2023 & \\textbf{  Pseudo R-squ.:     } &  3.482e-05   \\\\\n",
       "\\textbf{Time:}            &     11:42:34     & \\textbf{  Log-Likelihood:    } & -1.0639e+05  \\\\\n",
       "\\textbf{converged:}       &       True       & \\textbf{  LL-Null:           } & -1.0639e+05  \\\\\n",
       "\\textbf{Covariance Type:} &    nonrobust     & \\textbf{  LLR p-value:       } &    0.1920    \\\\\n",
       "\\bottomrule\n",
       "\\end{tabular}\n",
       "\\begin{tabular}{lcccccc}\n",
       "                   & \\textbf{coef} & \\textbf{std err} & \\textbf{z} & \\textbf{P$> |$z$|$} & \\textbf{[0.025} & \\textbf{0.975]}  \\\\\n",
       "\\midrule\n",
       "\\textbf{intercept} &      -1.9865  &        0.010     &  -206.344  &         0.000        &       -2.005    &       -1.968     \\\\\n",
       "\\textbf{ab\\_page}  &      -0.0206  &        0.014     &    -1.505  &         0.132        &       -0.047    &        0.006     \\\\\n",
       "\\textbf{UK}        &      -0.0057  &        0.019     &    -0.306  &         0.760        &       -0.043    &        0.031     \\\\\n",
       "\\textbf{CA}        &      -0.0175  &        0.038     &    -0.465  &         0.642        &       -0.091    &        0.056     \\\\\n",
       "\\textbf{UK\\_new}   &       0.0314  &        0.027     &     1.181  &         0.238        &       -0.021    &        0.084     \\\\\n",
       "\\textbf{CA\\_new}   &      -0.0469  &        0.054     &    -0.872  &         0.383        &       -0.152    &        0.059     \\\\\n",
       "\\bottomrule\n",
       "\\end{tabular}\n",
       "%\\caption{Logit Regression Results}\n",
       "\\end{center}"
      ],
      "text/plain": [
       "<class 'statsmodels.iolib.summary.Summary'>\n",
       "\"\"\"\n",
       "                           Logit Regression Results                           \n",
       "==============================================================================\n",
       "Dep. Variable:              converted   No. Observations:               290584\n",
       "Model:                          Logit   Df Residuals:                   290578\n",
       "Method:                           MLE   Df Model:                            5\n",
       "Date:                Sat, 23 Dec 2023   Pseudo R-squ.:               3.482e-05\n",
       "Time:                        11:42:34   Log-Likelihood:            -1.0639e+05\n",
       "converged:                       True   LL-Null:                   -1.0639e+05\n",
       "Covariance Type:            nonrobust   LLR p-value:                    0.1920\n",
       "==============================================================================\n",
       "                 coef    std err          z      P>|z|      [0.025      0.975]\n",
       "------------------------------------------------------------------------------\n",
       "intercept     -1.9865      0.010   -206.344      0.000      -2.005      -1.968\n",
       "ab_page       -0.0206      0.014     -1.505      0.132      -0.047       0.006\n",
       "UK            -0.0057      0.019     -0.306      0.760      -0.043       0.031\n",
       "CA            -0.0175      0.038     -0.465      0.642      -0.091       0.056\n",
       "UK_new         0.0314      0.027      1.181      0.238      -0.021       0.084\n",
       "CA_new        -0.0469      0.054     -0.872      0.383      -0.152       0.059\n",
       "==============================================================================\n",
       "\"\"\""
      ]
     },
     "execution_count": 68,
     "metadata": {},
     "output_type": "execute_result"
    }
   ],
   "source": [
    "# we added ab_page column, could we ommit previous fit operation?\n",
    "logit_m4 = sm.Logit(df_reg['converted'],\n",
    "                    df_reg[['intercept', 'ab_page',\n",
    "                            'UK', 'CA',\n",
    "                            'UK_new', 'CA_new']])\n",
    "results4 = logit_m4.fit()\n",
    "results4.summary()"
   ]
  },
  {
   "cell_type": "code",
   "execution_count": 69,
   "id": "3e4e54d0",
   "metadata": {},
   "outputs": [
    {
     "data": {
      "text/plain": [
       "intercept    0.1372\n",
       "ab_page      0.9796\n",
       "UK           0.9943\n",
       "CA           0.9826\n",
       "UK_new       1.0319\n",
       "CA_new       0.9542\n",
       "dtype: float64"
      ]
     },
     "execution_count": 69,
     "metadata": {},
     "output_type": "execute_result"
    }
   ],
   "source": [
    "np.exp(results4.params).round(4)"
   ]
  },
  {
   "cell_type": "markdown",
   "id": "cca64fec",
   "metadata": {},
   "source": [
    "To conclude this section, let us consider in our Logit Results the information of the timestamp column. \n",
    "We are to create new bucket columns depending on the hour of visit by performing One-Hot Encoding again via lambda functions. "
   ]
  },
  {
   "cell_type": "code",
   "execution_count": 70,
   "id": "6051bbb6",
   "metadata": {},
   "outputs": [
    {
     "name": "stdout",
     "output_type": "stream",
     "text": [
      "Date range:      \n",
      "Start: 2017-01-02 \n",
      "End: 2017-01-24\n"
     ]
    }
   ],
   "source": [
    "# Cast the nature of the timestamp column to ns whose type can be dealt by numPy\n",
    "df_reg['timestamp'] = df_reg['timestamp'].astype('datetime64[ns]')\n",
    "\n",
    "# Let us recall the date range of our dataset:\n",
    "print('Date range:\\\n",
    "      \\nStart:',\n",
    "       min(df_reg['timestamp'].dt.date),\n",
    "      '\\nEnd:',\n",
    "       max(df_reg['timestamp'].dt.date)\n",
    "       )\n"
   ]
  },
  {
   "cell_type": "code",
   "execution_count": 71,
   "id": "4dfafcad",
   "metadata": {},
   "outputs": [
    {
     "data": {
      "text/html": [
       "<div>\n",
       "<style scoped>\n",
       "    .dataframe tbody tr th:only-of-type {\n",
       "        vertical-align: middle;\n",
       "    }\n",
       "\n",
       "    .dataframe tbody tr th {\n",
       "        vertical-align: top;\n",
       "    }\n",
       "\n",
       "    .dataframe thead th {\n",
       "        text-align: right;\n",
       "    }\n",
       "</style>\n",
       "<table border=\"1\" class=\"dataframe\">\n",
       "  <thead>\n",
       "    <tr style=\"text-align: right;\">\n",
       "      <th></th>\n",
       "      <th>CA</th>\n",
       "      <th>UK</th>\n",
       "      <th>US</th>\n",
       "      <th>country</th>\n",
       "      <th>timestamp</th>\n",
       "      <th>group</th>\n",
       "      <th>landing_page</th>\n",
       "      <th>converted</th>\n",
       "      <th>intercept</th>\n",
       "      <th>ab_page</th>\n",
       "      <th>UK_new</th>\n",
       "      <th>CA_new</th>\n",
       "      <th>hour</th>\n",
       "      <th>midnight</th>\n",
       "      <th>morning</th>\n",
       "      <th>midday</th>\n",
       "      <th>afternoon</th>\n",
       "      <th>evening</th>\n",
       "      <th>night</th>\n",
       "    </tr>\n",
       "    <tr>\n",
       "      <th>user_id</th>\n",
       "      <th></th>\n",
       "      <th></th>\n",
       "      <th></th>\n",
       "      <th></th>\n",
       "      <th></th>\n",
       "      <th></th>\n",
       "      <th></th>\n",
       "      <th></th>\n",
       "      <th></th>\n",
       "      <th></th>\n",
       "      <th></th>\n",
       "      <th></th>\n",
       "      <th></th>\n",
       "      <th></th>\n",
       "      <th></th>\n",
       "      <th></th>\n",
       "      <th></th>\n",
       "      <th></th>\n",
       "      <th></th>\n",
       "    </tr>\n",
       "  </thead>\n",
       "  <tbody>\n",
       "    <tr>\n",
       "      <th>834778</th>\n",
       "      <td>0</td>\n",
       "      <td>1</td>\n",
       "      <td>0</td>\n",
       "      <td>UK</td>\n",
       "      <td>2017-01-14 23:08:43.304998</td>\n",
       "      <td>C</td>\n",
       "      <td>Previous</td>\n",
       "      <td>0</td>\n",
       "      <td>1</td>\n",
       "      <td>0</td>\n",
       "      <td>0</td>\n",
       "      <td>0</td>\n",
       "      <td>23</td>\n",
       "      <td>0</td>\n",
       "      <td>0</td>\n",
       "      <td>0</td>\n",
       "      <td>0</td>\n",
       "      <td>0</td>\n",
       "      <td>1</td>\n",
       "    </tr>\n",
       "    <tr>\n",
       "      <th>928468</th>\n",
       "      <td>0</td>\n",
       "      <td>0</td>\n",
       "      <td>1</td>\n",
       "      <td>US</td>\n",
       "      <td>2017-01-23 14:44:16.387854</td>\n",
       "      <td>T</td>\n",
       "      <td>New</td>\n",
       "      <td>0</td>\n",
       "      <td>1</td>\n",
       "      <td>1</td>\n",
       "      <td>0</td>\n",
       "      <td>0</td>\n",
       "      <td>14</td>\n",
       "      <td>0</td>\n",
       "      <td>0</td>\n",
       "      <td>0</td>\n",
       "      <td>1</td>\n",
       "      <td>0</td>\n",
       "      <td>0</td>\n",
       "    </tr>\n",
       "    <tr>\n",
       "      <th>822059</th>\n",
       "      <td>0</td>\n",
       "      <td>1</td>\n",
       "      <td>0</td>\n",
       "      <td>UK</td>\n",
       "      <td>2017-01-16 14:04:14.719771</td>\n",
       "      <td>T</td>\n",
       "      <td>New</td>\n",
       "      <td>1</td>\n",
       "      <td>1</td>\n",
       "      <td>1</td>\n",
       "      <td>1</td>\n",
       "      <td>0</td>\n",
       "      <td>14</td>\n",
       "      <td>0</td>\n",
       "      <td>0</td>\n",
       "      <td>0</td>\n",
       "      <td>1</td>\n",
       "      <td>0</td>\n",
       "      <td>0</td>\n",
       "    </tr>\n",
       "    <tr>\n",
       "      <th>711597</th>\n",
       "      <td>0</td>\n",
       "      <td>1</td>\n",
       "      <td>0</td>\n",
       "      <td>UK</td>\n",
       "      <td>2017-01-22 03:14:24.763511</td>\n",
       "      <td>C</td>\n",
       "      <td>Previous</td>\n",
       "      <td>0</td>\n",
       "      <td>1</td>\n",
       "      <td>0</td>\n",
       "      <td>0</td>\n",
       "      <td>0</td>\n",
       "      <td>3</td>\n",
       "      <td>1</td>\n",
       "      <td>0</td>\n",
       "      <td>0</td>\n",
       "      <td>0</td>\n",
       "      <td>0</td>\n",
       "      <td>0</td>\n",
       "    </tr>\n",
       "    <tr>\n",
       "      <th>710616</th>\n",
       "      <td>0</td>\n",
       "      <td>1</td>\n",
       "      <td>0</td>\n",
       "      <td>UK</td>\n",
       "      <td>2017-01-16 13:14:44.000513</td>\n",
       "      <td>T</td>\n",
       "      <td>New</td>\n",
       "      <td>0</td>\n",
       "      <td>1</td>\n",
       "      <td>1</td>\n",
       "      <td>1</td>\n",
       "      <td>0</td>\n",
       "      <td>13</td>\n",
       "      <td>0</td>\n",
       "      <td>0</td>\n",
       "      <td>0</td>\n",
       "      <td>1</td>\n",
       "      <td>0</td>\n",
       "      <td>0</td>\n",
       "    </tr>\n",
       "  </tbody>\n",
       "</table>\n",
       "</div>"
      ],
      "text/plain": [
       "         CA  UK  US country                  timestamp group landing_page  \\\n",
       "user_id                                                                     \n",
       "834778    0   1   0      UK 2017-01-14 23:08:43.304998     C     Previous   \n",
       "928468    0   0   1      US 2017-01-23 14:44:16.387854     T          New   \n",
       "822059    0   1   0      UK 2017-01-16 14:04:14.719771     T          New   \n",
       "711597    0   1   0      UK 2017-01-22 03:14:24.763511     C     Previous   \n",
       "710616    0   1   0      UK 2017-01-16 13:14:44.000513     T          New   \n",
       "\n",
       "         converted  intercept  ab_page  UK_new  CA_new  hour  midnight  \\\n",
       "user_id                                                                  \n",
       "834778           0          1        0       0       0    23         0   \n",
       "928468           0          1        1       0       0    14         0   \n",
       "822059           1          1        1       1       0    14         0   \n",
       "711597           0          1        0       0       0     3         1   \n",
       "710616           0          1        1       1       0    13         0   \n",
       "\n",
       "         morning  midday  afternoon  evening  night  \n",
       "user_id                                              \n",
       "834778         0       0          0        0      1  \n",
       "928468         0       0          1        0      0  \n",
       "822059         0       0          1        0      0  \n",
       "711597         0       0          0        0      0  \n",
       "710616         0       0          1        0      0  "
      ]
     },
     "execution_count": 71,
     "metadata": {},
     "output_type": "execute_result"
    }
   ],
   "source": [
    "# we get the hour from timestamp col.\n",
    "df_reg['hour'] = df_reg['timestamp'].dt.hour\n",
    "\n",
    "# and one-hot encode them based on the hour-buckets coded below\n",
    "df_reg['midnight'] = df_reg.apply(lambda row: 1 if (row.hour > 0 and row.hour < 5) \n",
    "                               else 0, axis = 1)\n",
    "\n",
    "df_reg['morning'] = df_reg.apply(lambda row: 1 if (row.hour >= 5 and row.hour < 9)\n",
    "                                 else 0, axis = 1)\n",
    "\n",
    "df_reg['midday'] = df_reg.apply(lambda row: 1 if (row.hour >= 9 and row.hour < 13)\n",
    "                                else 0, axis = 1)\n",
    "\n",
    "df_reg['afternoon'] = df_reg.apply(lambda row: 1 if (row.hour >= 13 and row.hour < 17)\n",
    "                                   else 0, axis = 1)\n",
    "\n",
    "df_reg['evening'] = df_reg.apply(lambda row: 1 if (row.hour >= 17 and row.hour < 21) \n",
    "                                 else 0, axis = 1)\n",
    "\n",
    "df_reg['night'] = df_reg.apply(lambda row: 1 if (row.hour >= 21 or row.hour == 0)\n",
    "                                     else 0, axis = 1)\n",
    "\n",
    "df_reg.head()"
   ]
  },
  {
   "cell_type": "code",
   "execution_count": 72,
   "id": "eb2c62cf",
   "metadata": {},
   "outputs": [
    {
     "name": "stdout",
     "output_type": "stream",
     "text": [
      "Optimization terminated successfully.\n",
      "         Current function value: 0.366074\n",
      "         Iterations 6\n"
     ]
    },
    {
     "data": {
      "text/html": [
       "<table class=\"simpletable\">\n",
       "<caption>Logit Regression Results</caption>\n",
       "<tr>\n",
       "  <th>Dep. Variable:</th>       <td>converted</td>    <th>  No. Observations:  </th>   <td>290584</td>   \n",
       "</tr>\n",
       "<tr>\n",
       "  <th>Model:</th>                 <td>Logit</td>      <th>  Df Residuals:      </th>   <td>290573</td>   \n",
       "</tr>\n",
       "<tr>\n",
       "  <th>Method:</th>                 <td>MLE</td>       <th>  Df Model:          </th>   <td>    10</td>   \n",
       "</tr>\n",
       "<tr>\n",
       "  <th>Date:</th>            <td>Sat, 23 Dec 2023</td> <th>  Pseudo R-squ.:     </th>  <td>0.0001298</td> \n",
       "</tr>\n",
       "<tr>\n",
       "  <th>Time:</th>                <td>11:42:55</td>     <th>  Log-Likelihood:    </th> <td>-1.0638e+05</td>\n",
       "</tr>\n",
       "<tr>\n",
       "  <th>converged:</th>             <td>True</td>       <th>  LL-Null:           </th> <td>-1.0639e+05</td>\n",
       "</tr>\n",
       "<tr>\n",
       "  <th>Covariance Type:</th>     <td>nonrobust</td>    <th>  LLR p-value:       </th>  <td>0.002083</td>  \n",
       "</tr>\n",
       "</table>\n",
       "<table class=\"simpletable\">\n",
       "<tr>\n",
       "      <td></td>         <th>coef</th>     <th>std err</th>      <th>z</th>      <th>P>|z|</th>  <th>[0.025</th>    <th>0.975]</th>  \n",
       "</tr>\n",
       "<tr>\n",
       "  <th>intercept</th> <td>   -1.9725</td> <td>    0.016</td> <td> -123.900</td> <td> 0.000</td> <td>   -2.004</td> <td>   -1.941</td>\n",
       "</tr>\n",
       "<tr>\n",
       "  <th>ab_page</th>   <td>   -0.0207</td> <td>    0.014</td> <td>   -1.513</td> <td> 0.130</td> <td>   -0.047</td> <td>    0.006</td>\n",
       "</tr>\n",
       "<tr>\n",
       "  <th>UK</th>        <td>   -0.0059</td> <td>    0.019</td> <td>   -0.311</td> <td> 0.755</td> <td>   -0.043</td> <td>    0.031</td>\n",
       "</tr>\n",
       "<tr>\n",
       "  <th>CA</th>        <td>   -0.0176</td> <td>    0.038</td> <td>   -0.468</td> <td> 0.640</td> <td>   -0.092</td> <td>    0.056</td>\n",
       "</tr>\n",
       "<tr>\n",
       "  <th>UK_new</th>    <td>    0.0318</td> <td>    0.027</td> <td>    1.196</td> <td> 0.232</td> <td>   -0.020</td> <td>    0.084</td>\n",
       "</tr>\n",
       "<tr>\n",
       "  <th>CA_new</th>    <td>   -0.0468</td> <td>    0.054</td> <td>   -0.870</td> <td> 0.384</td> <td>   -0.152</td> <td>    0.059</td>\n",
       "</tr>\n",
       "<tr>\n",
       "  <th>night</th>     <td>    0.0017</td> <td>    0.020</td> <td>    0.084</td> <td> 0.933</td> <td>   -0.037</td> <td>    0.040</td>\n",
       "</tr>\n",
       "<tr>\n",
       "  <th>morning</th>   <td>   -0.0142</td> <td>    0.020</td> <td>   -0.719</td> <td> 0.472</td> <td>   -0.053</td> <td>    0.024</td>\n",
       "</tr>\n",
       "<tr>\n",
       "  <th>midday</th>    <td>    0.0122</td> <td>    0.020</td> <td>    0.619</td> <td> 0.536</td> <td>   -0.026</td> <td>    0.051</td>\n",
       "</tr>\n",
       "<tr>\n",
       "  <th>afternoon</th> <td>   -0.0169</td> <td>    0.020</td> <td>   -0.857</td> <td> 0.391</td> <td>   -0.056</td> <td>    0.022</td>\n",
       "</tr>\n",
       "<tr>\n",
       "  <th>midnight</th>  <td>   -0.0678</td> <td>    0.020</td> <td>   -3.399</td> <td> 0.001</td> <td>   -0.107</td> <td>   -0.029</td>\n",
       "</tr>\n",
       "</table>"
      ],
      "text/latex": [
       "\\begin{center}\n",
       "\\begin{tabular}{lclc}\n",
       "\\toprule\n",
       "\\textbf{Dep. Variable:}   &    converted     & \\textbf{  No. Observations:  } &    290584    \\\\\n",
       "\\textbf{Model:}           &      Logit       & \\textbf{  Df Residuals:      } &    290573    \\\\\n",
       "\\textbf{Method:}          &       MLE        & \\textbf{  Df Model:          } &        10    \\\\\n",
       "\\textbf{Date:}            & Sat, 23 Dec 2023 & \\textbf{  Pseudo R-squ.:     } &  0.0001298   \\\\\n",
       "\\textbf{Time:}            &     11:42:55     & \\textbf{  Log-Likelihood:    } & -1.0638e+05  \\\\\n",
       "\\textbf{converged:}       &       True       & \\textbf{  LL-Null:           } & -1.0639e+05  \\\\\n",
       "\\textbf{Covariance Type:} &    nonrobust     & \\textbf{  LLR p-value:       } &   0.002083   \\\\\n",
       "\\bottomrule\n",
       "\\end{tabular}\n",
       "\\begin{tabular}{lcccccc}\n",
       "                   & \\textbf{coef} & \\textbf{std err} & \\textbf{z} & \\textbf{P$> |$z$|$} & \\textbf{[0.025} & \\textbf{0.975]}  \\\\\n",
       "\\midrule\n",
       "\\textbf{intercept} &      -1.9725  &        0.016     &  -123.900  &         0.000        &       -2.004    &       -1.941     \\\\\n",
       "\\textbf{ab\\_page}  &      -0.0207  &        0.014     &    -1.513  &         0.130        &       -0.047    &        0.006     \\\\\n",
       "\\textbf{UK}        &      -0.0059  &        0.019     &    -0.311  &         0.755        &       -0.043    &        0.031     \\\\\n",
       "\\textbf{CA}        &      -0.0176  &        0.038     &    -0.468  &         0.640        &       -0.092    &        0.056     \\\\\n",
       "\\textbf{UK\\_new}   &       0.0318  &        0.027     &     1.196  &         0.232        &       -0.020    &        0.084     \\\\\n",
       "\\textbf{CA\\_new}   &      -0.0468  &        0.054     &    -0.870  &         0.384        &       -0.152    &        0.059     \\\\\n",
       "\\textbf{night}     &       0.0017  &        0.020     &     0.084  &         0.933        &       -0.037    &        0.040     \\\\\n",
       "\\textbf{morning}   &      -0.0142  &        0.020     &    -0.719  &         0.472        &       -0.053    &        0.024     \\\\\n",
       "\\textbf{midday}    &       0.0122  &        0.020     &     0.619  &         0.536        &       -0.026    &        0.051     \\\\\n",
       "\\textbf{afternoon} &      -0.0169  &        0.020     &    -0.857  &         0.391        &       -0.056    &        0.022     \\\\\n",
       "\\textbf{midnight}  &      -0.0678  &        0.020     &    -3.399  &         0.001        &       -0.107    &       -0.029     \\\\\n",
       "\\bottomrule\n",
       "\\end{tabular}\n",
       "%\\caption{Logit Regression Results}\n",
       "\\end{center}"
      ],
      "text/plain": [
       "<class 'statsmodels.iolib.summary.Summary'>\n",
       "\"\"\"\n",
       "                           Logit Regression Results                           \n",
       "==============================================================================\n",
       "Dep. Variable:              converted   No. Observations:               290584\n",
       "Model:                          Logit   Df Residuals:                   290573\n",
       "Method:                           MLE   Df Model:                           10\n",
       "Date:                Sat, 23 Dec 2023   Pseudo R-squ.:               0.0001298\n",
       "Time:                        11:42:55   Log-Likelihood:            -1.0638e+05\n",
       "converged:                       True   LL-Null:                   -1.0639e+05\n",
       "Covariance Type:            nonrobust   LLR p-value:                  0.002083\n",
       "==============================================================================\n",
       "                 coef    std err          z      P>|z|      [0.025      0.975]\n",
       "------------------------------------------------------------------------------\n",
       "intercept     -1.9725      0.016   -123.900      0.000      -2.004      -1.941\n",
       "ab_page       -0.0207      0.014     -1.513      0.130      -0.047       0.006\n",
       "UK            -0.0059      0.019     -0.311      0.755      -0.043       0.031\n",
       "CA            -0.0176      0.038     -0.468      0.640      -0.092       0.056\n",
       "UK_new         0.0318      0.027      1.196      0.232      -0.020       0.084\n",
       "CA_new        -0.0468      0.054     -0.870      0.384      -0.152       0.059\n",
       "night          0.0017      0.020      0.084      0.933      -0.037       0.040\n",
       "morning       -0.0142      0.020     -0.719      0.472      -0.053       0.024\n",
       "midday         0.0122      0.020      0.619      0.536      -0.026       0.051\n",
       "afternoon     -0.0169      0.020     -0.857      0.391      -0.056       0.022\n",
       "midnight      -0.0678      0.020     -3.399      0.001      -0.107      -0.029\n",
       "==============================================================================\n",
       "\"\"\""
      ]
     },
     "execution_count": 72,
     "metadata": {},
     "output_type": "execute_result"
    }
   ],
   "source": [
    "# having any or all of 'ab_page', 'UK', 'CA', 'UK_newpage', 'CA_newpage' makes no difference to significance of time buckets\n",
    "logit_m5 = sm.Logit(df_reg['converted'], df_reg[['intercept', 'ab_page', 'UK', 'CA', 'UK_new', 'CA_new',\n",
    "                                           'night', 'morning', 'midday', 'afternoon', 'midnight']])\n",
    "results5 = logit_m5.fit()\n",
    "results5.summary()"
   ]
  },
  {
   "cell_type": "code",
   "execution_count": 73,
   "id": "abdfaee2",
   "metadata": {},
   "outputs": [
    {
     "data": {
      "text/plain": [
       "intercept    0.1391\n",
       "ab_page      0.9795\n",
       "UK           0.9942\n",
       "CA           0.9825\n",
       "UK_new       1.0323\n",
       "CA_new       0.9543\n",
       "night        1.0017\n",
       "morning      0.9859\n",
       "midday       1.0122\n",
       "afternoon    0.9832\n",
       "midnight     0.9345\n",
       "dtype: float64"
      ]
     },
     "execution_count": 73,
     "metadata": {},
     "output_type": "execute_result"
    }
   ],
   "source": [
    "np.exp(results5.params).round(4)"
   ]
  },
  {
   "cell_type": "markdown",
   "id": "5e055f07",
   "metadata": {},
   "source": [
    "We are still obtaining odd ratios upclose to the unity, therefore this results can't contribute to discern any different result obtained from both website versions in terms of conversions/registrations."
   ]
  },
  {
   "cell_type": "markdown",
   "id": "857e4174",
   "metadata": {},
   "source": [
    "We see that the odds ratio in all cases happen to be very close to the unity.HEnce, this model and/ or the dataset obtained cannot help us ascertain whether or not the new website version leads to more conversions/ registrations.\n",
    "\n",
    "Before we move onto the section of ROC space and Confusion matrix, we are to visualize the visits and conversion for the available dataset."
   ]
  },
  {
   "cell_type": "code",
   "execution_count": 74,
   "id": "511687a2",
   "metadata": {},
   "outputs": [
    {
     "name": "stdout",
     "output_type": "stream",
     "text": [
      "Date range:      \n",
      "Start: 2017-01-02 \n",
      "End: 2017-01-24\n"
     ]
    }
   ],
   "source": [
    "# Cast the nature of the timestamp column to ns whose type can be dealt by numPy\n",
    "df_reg['timestamp'] = df_reg['timestamp'].astype('datetime64[ns]')\n",
    "\n",
    "# Let us recall the date range of our dataset:\n",
    "print('Date range:\\\n",
    "      \\nStart:',\n",
    "       min(df_reg['timestamp'].dt.date),\n",
    "      '\\nEnd:',\n",
    "       max(df_reg['timestamp'].dt.date)\n",
    "       )\n"
   ]
  },
  {
   "cell_type": "code",
   "execution_count": 75,
   "id": "26fc6f82",
   "metadata": {},
   "outputs": [
    {
     "data": {
      "text/plain": [
       "user_id\n",
       "834778    Saturday\n",
       "928468      Monday\n",
       "822059      Monday\n",
       "711597      Sunday\n",
       "710616      Monday\n",
       "Name: timestamp, dtype: object"
      ]
     },
     "execution_count": 75,
     "metadata": {},
     "output_type": "execute_result"
    }
   ],
   "source": [
    "# we will reindex when grouping by days of the week using\n",
    "# the following variable later on\n",
    "days = ['Monday','Tuesday','Wednesday',\n",
    "        'Thursday','Friday','Saturday',\n",
    "        'Sunday']\n",
    "\n",
    "#  let us define the day of the week\n",
    "day_week = df_reg['timestamp'].dt.day_name()\n",
    "day_week.head()\n"
   ]
  },
  {
   "cell_type": "code",
   "execution_count": 76,
   "id": "7cd2bbd5",
   "metadata": {},
   "outputs": [
    {
     "data": {
      "image/png": "[encoded data removed]",
      "text/plain": [
       "<Figure size 2000x500 with 2 Axes>"
      ]
     },
     "metadata": {},
     "output_type": "display_data"
    }
   ],
   "source": [
    "plt.figure(figsize=(20,5))\n",
    "\n",
    "plt.subplot(1,2,1)\n",
    "g2 = df_reg.groupby(day_week)\\\n",
    "           .count()['converted']\\\n",
    "           .reindex(days)\\\n",
    "           .plot(kind = \"bar\")\n",
    "g2.set(title = 'Visits by day of the week',\n",
    "       xlabel = '',\n",
    "       ylabel = 'Count')\n",
    "\n",
    "plt.subplot(1,2,2)\n",
    "g234 = df_reg.groupby(day_week)['converted']\\\n",
    "           .agg(np.sum)\\\n",
    "           .reindex(days)\\\n",
    "           .plot(kind = \"bar\", \n",
    "                 xlabel = '',\n",
    "                 ylabel = 'Count')\n",
    "g234.set(title = 'Conversions by day of the week');"
   ]
  },
  {
   "cell_type": "code",
   "execution_count": 77,
   "id": "79626951",
   "metadata": {},
   "outputs": [
    {
     "data": {
      "text/plain": [
       "user_id\n",
       "834778    14\n",
       "928468    23\n",
       "822059    16\n",
       "711597    22\n",
       "710616    16\n",
       "Name: timestamp, dtype: int32"
      ]
     },
     "execution_count": 77,
     "metadata": {},
     "output_type": "execute_result"
    }
   ],
   "source": [
    "# let us define now the variable for the day of the month\n",
    "day_num = df_reg['timestamp'].dt.day\n",
    "day_num.head()"
   ]
  },
  {
   "cell_type": "code",
   "execution_count": 78,
   "id": "bedda963",
   "metadata": {},
   "outputs": [
    {
     "data": {
      "image/png": "[encoded data removed]",
      "text/plain": [
       "<Figure size 2000x500 with 2 Axes>"
      ]
     },
     "metadata": {},
     "output_type": "display_data"
    }
   ],
   "source": [
    "plt.figure(figsize = (20,5))\n",
    "\n",
    "plt.subplot(1,2,1)\n",
    "g1 = df_reg.groupby(day_num)\\\n",
    "           .count()['converted']\\\n",
    "           .plot(kind = \"bar\")\n",
    "g1.set(title = 'Visits per day',\n",
    "       xlabel = '',\n",
    "       ylabel = 'Count')\n",
    "\n",
    "plt.subplot(1,2,2)\n",
    "g112 = df_reg.groupby(day_num)['converted']\\\n",
    "           .agg(np.sum)\\\n",
    "           .plot(kind = \"bar\",\n",
    "                 xlabel = '',\n",
    "                 ylabel = 'Count')\n",
    "g112.set(title = 'Conversion per day');"
   ]
  },
  {
   "cell_type": "markdown",
   "id": "be1472d6",
   "metadata": {},
   "source": [
    "[Back to Index](#index)\n",
    "\n"
   ]
  },
  {
   "cell_type": "markdown",
   "id": "bfd99324",
   "metadata": {},
   "source": [
    "### 5. Confusion matrix and ROC Space\n"
   ]
  },
  {
   "cell_type": "markdown",
   "id": "0f067f3c",
   "metadata": {},
   "source": [
    "In this final part, we are to plot a confusion matrix and ROC space in order to see the statistical power of a models generated with LogisticRegression using sklearn :\n"
   ]
  },
  {
   "cell_type": "code",
   "execution_count": 79,
   "id": "ec4a2dcc",
   "metadata": {},
   "outputs": [],
   "source": [
    "# model diagnostics # Reduced\n",
    "X = df_reg[['ab_page', 'UK', 'CA', 'UK_new', 'CA_new']]\n",
    "y = df_reg['converted']\n",
    "X_train, X_test, y_train, y_test = train_test_split(X, y,\n",
    "                                                    test_size = .2,\n",
    "                                                    random_state = 0)"
   ]
  },
  {
   "cell_type": "code",
   "execution_count": 80,
   "id": "319d987b",
   "metadata": {},
   "outputs": [
    {
     "data": {
      "text/plain": [
       "array([[0.87989381, 0.12010619],\n",
       "       [0.88156031, 0.11843969],\n",
       "       [0.88156031, 0.11843969],\n",
       "       ...,\n",
       "       [0.88156031, 0.11843969],\n",
       "       [0.88156031, 0.11843969],\n",
       "       [0.87957483, 0.12042517]])"
      ]
     },
     "execution_count": 80,
     "metadata": {},
     "output_type": "execute_result"
    }
   ],
   "source": [
    "\n",
    "log_mod8 = LogisticRegression()\n",
    "log_mod8.fit(X_train, y_train)\n",
    "preds = log_mod8.predict_proba(X_test)\n",
    "\n",
    "preds"
   ]
  },
  {
   "cell_type": "code",
   "execution_count": 81,
   "id": "9a42937c",
   "metadata": {},
   "outputs": [
    {
     "data": {
      "text/plain": [
       "1    34785\n",
       "0    23332\n",
       "Name: count, dtype: int64"
      ]
     },
     "execution_count": 81,
     "metadata": {},
     "output_type": "execute_result"
    }
   ],
   "source": [
    "# we extrac the probabilities of conversion\n",
    "y_prob = []\n",
    "for index, item in enumerate(preds):\n",
    "    y_prob.append(item[1])\n",
    "y_prob = pd.Series(y_prob)\n",
    "\n",
    "# and set a new threshold 'p_conv_thres' for the prediction,\n",
    "# otherwise, all our predicted-converted values will equal to zero\n",
    "p_conv_thres = .12\n",
    "y_preds = (y_prob > p_conv_thres).astype('int')\n",
    "y_preds.value_counts()"
   ]
  },
  {
   "cell_type": "code",
   "execution_count": 82,
   "id": "d6277bb2",
   "metadata": {},
   "outputs": [
    {
     "name": "stdout",
     "output_type": "stream",
     "text": [
      "              precision    recall  f1-score   support\n",
      "\n",
      "           0       0.88      0.40      0.55     51094\n",
      "           1       0.12      0.61      0.20      7023\n",
      "\n",
      "    accuracy                           0.43     58117\n",
      "   macro avg       0.50      0.50      0.38     58117\n",
      "weighted avg       0.79      0.43      0.51     58117\n",
      "\n"
     ]
    }
   ],
   "source": [
    "print(classification_report(y_test, y_preds))"
   ]
  },
  {
   "cell_type": "code",
   "execution_count": 83,
   "id": "020d480a",
   "metadata": {},
   "outputs": [
    {
     "name": "stdout",
     "output_type": "stream",
     "text": [
      "Precision: 0.1224\n",
      "Recall: 0.6063\n",
      "Accuracy: 0.4272\n"
     ]
    }
   ],
   "source": [
    "# precision = TP / (TP + FP)\n",
    "print('Precision:', precision_score(y_test, y_preds).round(4))\n",
    "\n",
    "# recall = TP / (TP + FN)\n",
    "print('Recall:', recall_score(y_test, y_preds).round(4))\n",
    "\n",
    "# accuracy = (TP + TN) / (TP + FP + FN + TN)\n",
    "score = accuracy_score(y_test, y_preds)\n",
    "\n",
    "print('Accuracy:', score.round(4))"
   ]
  },
  {
   "cell_type": "code",
   "execution_count": 84,
   "id": "da4386d8",
   "metadata": {},
   "outputs": [
    {
     "data": {
      "text/plain": [
       "array([[20567, 30527],\n",
       "       [ 2765,  4258]], dtype=int64)"
      ]
     },
     "execution_count": 84,
     "metadata": {},
     "output_type": "execute_result"
    }
   ],
   "source": [
    "cm2 = confusion_matrix(y_test,y_preds)\n",
    "cm2"
   ]
  },
  {
   "cell_type": "code",
   "execution_count": 85,
   "id": "2b566b7d",
   "metadata": {},
   "outputs": [
    {
     "data": {
      "image/png": "[encoded data removed]",
      "text/plain": [
       "<Figure size 640x480 with 2 Axes>"
      ]
     },
     "metadata": {},
     "output_type": "display_data"
    }
   ],
   "source": [
    "ax= plt.subplot()\n",
    "sns.heatmap(cm2, annot = True, fmt=\".0f\",\n",
    "            lw = .5, square = True,\n",
    "cmap = 'vlag')\n",
    "plt.ylabel('Actual', size = 12)\n",
    "plt.xlabel('Predicted', size = 12)\n",
    "all_sample_title = 'Accuracy Score: {0}'.format(score.round(4))\n",
    "plt.title(all_sample_title, size = 12)\n",
    "ax.xaxis.set_ticklabels(['Not converted', 'Converted'])\n",
    "ax.yaxis.set_ticklabels(['Not converted', 'Converted']);\n"
   ]
  },
  {
   "cell_type": "code",
   "execution_count": 86,
   "id": "fb441e8d",
   "metadata": {},
   "outputs": [
    {
     "data": {
      "image/png": "[encoded data removed]",
      "text/plain": [
       "<Figure size 640x480 with 1 Axes>"
      ]
     },
     "metadata": {},
     "output_type": "display_data"
    }
   ],
   "source": [
    "# Receiver Operating Characteristic space\n",
    "\n",
    "# compute\n",
    "logit_roc_auc = roc_auc_score(y_test, y_preds)\n",
    "fpr, tpr, thresholds = roc_curve(y_test, log_mod8.predict_proba(X_test)[ :, 1])\n",
    "\n",
    "# plot rendering\n",
    "plt.figure()\n",
    "plt.plot(fpr, tpr, label = 'Log. Regress. (AUC = %0.3f)' % logit_roc_auc)\n",
    "plt.plot([0, 1], [0, 1],'--', color = 'orange', label =' Random class. (AUC = 0.5)')\n",
    "\n",
    "plt.xlim([0, 1])\n",
    "plt.xlabel('False Positive Rate')\n",
    "\n",
    "plt.ylim([0, 1])\n",
    "plt.ylabel('True Positive Rate')\n",
    "\n",
    "plt.title('ROC space')\n",
    "plt.legend(loc = \"lower right\")\n",
    "plt.show();"
   ]
  },
  {
   "cell_type": "markdown",
   "id": "2b373cd1",
   "metadata": {},
   "source": [
    "Although there is just a smidgen of inclination towards the TPR side, the AOC is almost equivalent to the one of the baseline or Random Model in the ROC space. Hence, this model can't predict whether ot not the new version has greater or less conversion rate in comparison with the previous website.\n",
    "\n",
    "In conclusion, we confirm that it can't be demonstrated that the new website version leads to a higher conversion rate. Therefore, maintaining the previous version is the safest option to stay with. \n",
    "\n",
    "Thank you for reading this notebook!"
   ]
  },
  {
   "cell_type": "markdown",
   "id": "6ccc6a28",
   "metadata": {},
   "source": [
    "[Back to Index](#index)"
   ]
  }
 ],
 "metadata": {
  "kernelspec": {
   "display_name": "Python 3 (ipykernel)",
   "language": "python",
   "name": "python3"
  },
  "language_info": {
   "codemirror_mode": {
    "name": "ipython",
    "version": 3
   },
   "file_extension": ".py",
   "mimetype": "text/x-python",
   "name": "python",
   "nbconvert_exporter": "python",
   "pygments_lexer": "ipython3",
   "version": "3.11.4"
  }
 },
 "nbformat": 4,
 "nbformat_minor": 5
}
